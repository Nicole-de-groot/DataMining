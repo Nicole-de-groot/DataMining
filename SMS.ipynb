{
 "cells": [
  {
   "cell_type": "code",
   "execution_count": 434,
   "metadata": {},
   "outputs": [],
   "source": [
    "import pandas as pd\n",
    "import seaborn as sns\n",
    "import matplotlib.pyplot as plt\n",
    "import numpy as np\n",
    "from copy import deepcopy\n",
    "from sklearn import tree\n",
    "from anytree import Node, RenderTree\n",
    "import random\n",
    "import math\n",
    "# machine learning\n",
    "from sklearn.linear_model import LogisticRegression\n",
    "from sklearn.svm import SVC, LinearSVC\n",
    "from sklearn.ensemble import RandomForestClassifier\n",
    "from sklearn.neighbors import KNeighborsClassifier\n",
    "from sklearn.naive_bayes import GaussianNB\n",
    "from sklearn.linear_model import Perceptron\n",
    "from sklearn.linear_model import SGDClassifier\n",
    "from sklearn.tree import DecisionTreeClassifier\n",
    "import nltk\n",
    "from nltk import bigrams"
   ]
  },
  {
   "cell_type": "code",
   "execution_count": 435,
   "metadata": {
    "scrolled": true
   },
   "outputs": [
    {
     "name": "stderr",
     "output_type": "stream",
     "text": [
      "C:\\Users\\tessa\\Miniconda3\\lib\\site-packages\\ipykernel_launcher.py:1: ParserWarning: Falling back to the 'python' engine because the 'c' engine does not support regex separators (separators > 1 char and different from '\\s+' are interpreted as regex); you can avoid this warning by specifying engine='python'.\n",
      "  \"\"\"Entry point for launching an IPython kernel.\n"
     ]
    },
    {
     "data": {
      "text/html": [
       "<div>\n",
       "<style scoped>\n",
       "    .dataframe tbody tr th:only-of-type {\n",
       "        vertical-align: middle;\n",
       "    }\n",
       "\n",
       "    .dataframe tbody tr th {\n",
       "        vertical-align: top;\n",
       "    }\n",
       "\n",
       "    .dataframe thead th {\n",
       "        text-align: right;\n",
       "    }\n",
       "</style>\n",
       "<table border=\"1\" class=\"dataframe\">\n",
       "  <thead>\n",
       "    <tr style=\"text-align: right;\">\n",
       "      <th></th>\n",
       "      <th>label</th>\n",
       "      <th>text</th>\n",
       "    </tr>\n",
       "  </thead>\n",
       "  <tbody>\n",
       "    <tr>\n",
       "      <th>0</th>\n",
       "      <td>ham</td>\n",
       "      <td>Go until jurong point</td>\n",
       "    </tr>\n",
       "    <tr>\n",
       "      <th>1</th>\n",
       "      <td>ham</td>\n",
       "      <td>Ok lar... Joking wif u oni...</td>\n",
       "    </tr>\n",
       "    <tr>\n",
       "      <th>2</th>\n",
       "      <td>spam</td>\n",
       "      <td>Free entry in 2 a wkly comp to win FA Cup fina...</td>\n",
       "    </tr>\n",
       "    <tr>\n",
       "      <th>3</th>\n",
       "      <td>ham</td>\n",
       "      <td>U dun say so early hor... U c already then say...</td>\n",
       "    </tr>\n",
       "    <tr>\n",
       "      <th>4</th>\n",
       "      <td>ham</td>\n",
       "      <td>Nah I don't think he goes to usf</td>\n",
       "    </tr>\n",
       "  </tbody>\n",
       "</table>\n",
       "</div>"
      ],
      "text/plain": [
       "  label                                               text\n",
       "0   ham                              Go until jurong point\n",
       "1   ham                      Ok lar... Joking wif u oni...\n",
       "2  spam  Free entry in 2 a wkly comp to win FA Cup fina...\n",
       "3   ham  U dun say so early hor... U c already then say...\n",
       "4   ham                   Nah I don't think he goes to usf"
      ]
     },
     "execution_count": 435,
     "metadata": {},
     "output_type": "execute_result"
    }
   ],
   "source": [
    "sms = pd.read_csv('SmsCollection.csv', delimiter = '    ')\n",
    "sms.head()"
   ]
  },
  {
   "cell_type": "code",
   "execution_count": 436,
   "metadata": {
    "scrolled": true
   },
   "outputs": [],
   "source": [
    "# sns.countplot(x = \"label\", data = sms)\n",
    "\n",
    "# print(1 - sms.label.mean())"
   ]
  },
  {
   "cell_type": "code",
   "execution_count": 437,
   "metadata": {},
   "outputs": [
    {
     "data": {
      "text/html": [
       "<div>\n",
       "<style scoped>\n",
       "    .dataframe tbody tr th:only-of-type {\n",
       "        vertical-align: middle;\n",
       "    }\n",
       "\n",
       "    .dataframe tbody tr th {\n",
       "        vertical-align: top;\n",
       "    }\n",
       "\n",
       "    .dataframe thead th {\n",
       "        text-align: right;\n",
       "    }\n",
       "</style>\n",
       "<table border=\"1\" class=\"dataframe\">\n",
       "  <thead>\n",
       "    <tr style=\"text-align: right;\">\n",
       "      <th></th>\n",
       "      <th>label</th>\n",
       "      <th>text</th>\n",
       "    </tr>\n",
       "  </thead>\n",
       "  <tbody>\n",
       "    <tr>\n",
       "      <th>0</th>\n",
       "      <td>0</td>\n",
       "      <td>Go until jurong point</td>\n",
       "    </tr>\n",
       "    <tr>\n",
       "      <th>1</th>\n",
       "      <td>0</td>\n",
       "      <td>Ok lar... Joking wif u oni...</td>\n",
       "    </tr>\n",
       "    <tr>\n",
       "      <th>2</th>\n",
       "      <td>1</td>\n",
       "      <td>Free entry in 2 a wkly comp to win FA Cup fina...</td>\n",
       "    </tr>\n",
       "    <tr>\n",
       "      <th>3</th>\n",
       "      <td>0</td>\n",
       "      <td>U dun say so early hor... U c already then say...</td>\n",
       "    </tr>\n",
       "    <tr>\n",
       "      <th>4</th>\n",
       "      <td>0</td>\n",
       "      <td>Nah I don't think he goes to usf</td>\n",
       "    </tr>\n",
       "  </tbody>\n",
       "</table>\n",
       "</div>"
      ],
      "text/plain": [
       "   label                                               text\n",
       "0      0                              Go until jurong point\n",
       "1      0                      Ok lar... Joking wif u oni...\n",
       "2      1  Free entry in 2 a wkly comp to win FA Cup fina...\n",
       "3      0  U dun say so early hor... U c already then say...\n",
       "4      0                   Nah I don't think he goes to usf"
      ]
     },
     "execution_count": 437,
     "metadata": {},
     "output_type": "execute_result"
    }
   ],
   "source": [
    "def transform_categorical(df):\n",
    "    \n",
    "    df['label'] = df['label'].map({'ham': 0, 'spam': 1}).astype(int)\n",
    "    \n",
    "transform_categorical(sms)\n",
    "\n",
    "sms.head()"
   ]
  },
  {
   "cell_type": "code",
   "execution_count": 438,
   "metadata": {},
   "outputs": [
    {
     "name": "stdout",
     "output_type": "stream",
     "text": [
      "30\n",
      "60\n"
     ]
    }
   ],
   "source": [
    "sms['text'] = sms['text'].fillna('none')\n",
    "sms['text'] = sms['text'].str.replace('[^\\w\\s]','')\n",
    "sms['text'] = sms['text'].str.lower()\n",
    "\n",
    "smsspam = sms[sms['label'] == 1]\n",
    "smsham = sms[sms['label'] == 0]\n",
    "wordsspam = pd.Series(' '.join(smsspam['text']).lower().split()).value_counts()[:100]\n",
    "wordsham = pd.Series(' '.join(smsham['text']).lower().split()).value_counts()[:1000]\n",
    "\n",
    "# print(wordsham)\n",
    "\n",
    "typicalspamwords = []\n",
    "for word in wordsspam.index:\n",
    "    if word not in wordsham.index:\n",
    "        typicalspamwords.append(word)\n",
    "        \n",
    "typicalhamwords = []\n",
    "for word in wordsham.index[:100]:\n",
    "    if word not in wordsspam.index:\n",
    "        typicalhamwords.append(word)\n",
    "        \n",
    "print(len(typicalspamwords))\n",
    "print(len(typicalhamwords))"
   ]
  },
  {
   "cell_type": "code",
   "execution_count": 439,
   "metadata": {},
   "outputs": [],
   "source": [
    "# print(sms.head())\n",
    "# sms[\"bigrams\"] = sms[\"text\"]\n",
    "# print(spam_bigram)\n",
    "\n",
    "# string = \"I really like python, it's pretty awesome.\"\n",
    "# string_bigrams = list(bigrams(string.split(\" \")))\n",
    "# print(string_bigrams)"
   ]
  },
  {
   "cell_type": "code",
   "execution_count": 440,
   "metadata": {},
   "outputs": [],
   "source": [
    "# def predict_spam_words(df, spamwords):\n",
    "    \n",
    "#     df[\"Pred\"] = 0\n",
    "    \n",
    "#     for i in range(len(df)):\n",
    "#         if any(spamword in df['text'].iloc[i] for spamword in spamwords):\n",
    "#                df[\"Pred\"].iloc[i] = 1\n",
    "\n",
    "    \n",
    "# predict_spam_words(sms, typicalspamwords)\n",
    "\n",
    "\n",
    "# print(sms.head())\n",
    "\n",
    "# sns.countplot(x = 'Pred', data = sms)\n",
    "# # if any(word in 'some one long two phrase three' for word in list_):"
   ]
  },
  {
   "cell_type": "code",
   "execution_count": 441,
   "metadata": {},
   "outputs": [],
   "source": [
    "# def check_prediction(df):\n",
    "    \n",
    "#     cors = np.where(df[\"label\"] == df[\"Pred\"], 1, 0)\n",
    "#     print(sum(cors))\n",
    "    \n",
    "#     falsepos = np.where((df[\"label\"] == 0) & (df[\"Pred\"] == 1), 1, 0)\n",
    "#     falseneg = np.where((df[\"label\"] == 1) & (df[\"Pred\"] == 0), 1, 0)\n",
    "\n",
    "#     print(sum(falsepos))\n",
    "#     print(sum(falseneg))\n",
    "# #     df = df.drop('Correct')\n",
    "#     return sum(cors), sum(falsepos), sum(falseneg)\n",
    "\n",
    "# cor = check_prediction(sms)\n",
    "# print(cor[0]/len(sms))\n"
   ]
  },
  {
   "cell_type": "code",
   "execution_count": 442,
   "metadata": {},
   "outputs": [
    {
     "name": "stdout",
     "output_type": "stream",
     "text": [
      "189\n"
     ]
    }
   ],
   "source": [
    "def count_word_types(df, spamwords, hamwords):\n",
    "    \n",
    "    df[\"Spamwords\"] = 0\n",
    "    df[\"Hamwords\"] = 0\n",
    "\n",
    "    for word in spamwords:\n",
    "        df[\"Spamwords\"] = df[\"Spamwords\"] + df['text'].str.count(word)\n",
    "        \n",
    "    for word in hamwords:\n",
    "        df[\"Hamwords\"] = df[\"Hamwords\"] + df['text'].str.count(word)\n",
    "        \n",
    "count_word_types(sms, typicalspamwords, typicalhamwords)\n",
    "\n",
    "print(sms['Hamwords'].max())"
   ]
  },
  {
   "cell_type": "code",
   "execution_count": 443,
   "metadata": {
    "scrolled": true
   },
   "outputs": [
    {
     "name": "stdout",
     "output_type": "stream",
     "text": [
      "   label                                               text  Spamwords  \\\n",
      "0      0                              go until jurong point          0   \n",
      "1      0                            ok lar joking wif u oni          0   \n",
      "2      1  free entry in 2 a wkly comp to win fa cup fina...          5   \n",
      "3      0        u dun say so early hor u c already then say          0   \n",
      "4      0                    nah i dont think he goes to usf          0   \n",
      "\n",
      "  Hamwords  \n",
      "0        2  \n",
      "1        2  \n",
      "2        7  \n",
      "3        4  \n",
      "4        4  \n"
     ]
    }
   ],
   "source": [
    "def hamgroups(df):\n",
    "    \n",
    "    labels = [0, 1, 2, 3, 4, 5, 6, 7, 8, 9]\n",
    "    df[\"Hamwords\"] = pd.qcut(df[\"Hamwords\"], 10, labels = labels)\n",
    "\n",
    "# def spamgroups(df):\n",
    "    \n",
    "#     df[\"Spamwords\"] = np.where(df[\"Spamwords\"] > 4, 4, df[\"Spamwords\"])\n",
    "    \n",
    "hamgroups(sms)\n",
    "# spamgroups(sms)\n",
    "print(sms.head())"
   ]
  },
  {
   "cell_type": "code",
   "execution_count": 444,
   "metadata": {},
   "outputs": [
    {
     "data": {
      "text/plain": [
       "<matplotlib.axes._subplots.AxesSubplot at 0x15ea0d132e8>"
      ]
     },
     "execution_count": 444,
     "metadata": {},
     "output_type": "execute_result"
    },
    {
     "data": {
      "image/png": "[encoded data removed]",
      "text/plain": [
       "<Figure size 432x288 with 1 Axes>"
      ]
     },
     "metadata": {
      "needs_background": "light"
     },
     "output_type": "display_data"
    }
   ],
   "source": [
    "sns.countplot(x = \"Spamwords\",  data = sms)"
   ]
  },
  {
   "cell_type": "code",
   "execution_count": 445,
   "metadata": {},
   "outputs": [
    {
     "name": "stdout",
     "output_type": "stream",
     "text": [
      "Spamwords\n",
      "0     0.038477\n",
      "1     0.510204\n",
      "2     0.940120\n",
      "3     0.987500\n",
      "4     1.000000\n",
      "5     1.000000\n",
      "6     1.000000\n",
      "7     1.000000\n",
      "8     1.000000\n",
      "9     1.000000\n",
      "10    1.000000\n",
      "11    1.000000\n",
      "Name: label, dtype: float64\n"
     ]
    }
   ],
   "source": [
    "g = sms.groupby([\"Spamwords\"])\n",
    "print(g.label.mean())"
   ]
  },
  {
   "cell_type": "code",
   "execution_count": 446,
   "metadata": {},
   "outputs": [
    {
     "data": {
      "text/plain": [
       "<matplotlib.axes._subplots.AxesSubplot at 0x15e9e7b7080>"
      ]
     },
     "execution_count": 446,
     "metadata": {},
     "output_type": "execute_result"
    },
    {
     "data": {
      "image/png": "[encoded data removed]",
      "text/plain": [
       "<Figure size 432x288 with 1 Axes>"
      ]
     },
     "metadata": {
      "needs_background": "light"
     },
     "output_type": "display_data"
    }
   ],
   "source": [
    "sns.barplot(x = \"Hamwords\", y = \"label\", data = sms)"
   ]
  },
  {
   "cell_type": "code",
   "execution_count": 447,
   "metadata": {
    "scrolled": true
   },
   "outputs": [
    {
     "data": {
      "text/html": [
       "<div>\n",
       "<style scoped>\n",
       "    .dataframe tbody tr th:only-of-type {\n",
       "        vertical-align: middle;\n",
       "    }\n",
       "\n",
       "    .dataframe tbody tr th {\n",
       "        vertical-align: top;\n",
       "    }\n",
       "\n",
       "    .dataframe thead th {\n",
       "        text-align: right;\n",
       "    }\n",
       "</style>\n",
       "<table border=\"1\" class=\"dataframe\">\n",
       "  <thead>\n",
       "    <tr style=\"text-align: right;\">\n",
       "      <th></th>\n",
       "      <th>label</th>\n",
       "      <th>Spamwords</th>\n",
       "      <th>Hamwords</th>\n",
       "    </tr>\n",
       "  </thead>\n",
       "  <tbody>\n",
       "    <tr>\n",
       "      <th>5569</th>\n",
       "      <td>1</td>\n",
       "      <td>4</td>\n",
       "      <td>6</td>\n",
       "    </tr>\n",
       "    <tr>\n",
       "      <th>5570</th>\n",
       "      <td>0</td>\n",
       "      <td>0</td>\n",
       "      <td>4</td>\n",
       "    </tr>\n",
       "    <tr>\n",
       "      <th>5571</th>\n",
       "      <td>0</td>\n",
       "      <td>0</td>\n",
       "      <td>0</td>\n",
       "    </tr>\n",
       "    <tr>\n",
       "      <th>5572</th>\n",
       "      <td>0</td>\n",
       "      <td>0</td>\n",
       "      <td>8</td>\n",
       "    </tr>\n",
       "    <tr>\n",
       "      <th>5573</th>\n",
       "      <td>0</td>\n",
       "      <td>0</td>\n",
       "      <td>3</td>\n",
       "    </tr>\n",
       "  </tbody>\n",
       "</table>\n",
       "</div>"
      ],
      "text/plain": [
       "      label  Spamwords Hamwords\n",
       "5569      1          4        6\n",
       "5570      0          0        4\n",
       "5571      0          0        0\n",
       "5572      0          0        8\n",
       "5573      0          0        3"
      ]
     },
     "execution_count": 447,
     "metadata": {},
     "output_type": "execute_result"
    }
   ],
   "source": [
    "def drop_attributes(df):\n",
    "    df = df.drop(['text'], axis = 1)\n",
    "    return df\n",
    "    \n",
    "sms = drop_attributes(sms)\n",
    "sms.tail()"
   ]
  },
  {
   "cell_type": "code",
   "execution_count": 448,
   "metadata": {},
   "outputs": [],
   "source": [
    "xsms = sms.drop(['label', 'Hamwords'], axis = 1)\n",
    "ysms = sms['label']"
   ]
  },
  {
   "cell_type": "code",
   "execution_count": 449,
   "metadata": {},
   "outputs": [
    {
     "name": "stdout",
     "output_type": "stream",
     "text": [
      "[0 0 1 ... 0 0 0]\n",
      "93.45\n"
     ]
    }
   ],
   "source": [
    "decision_tree = DecisionTreeClassifier()\n",
    "decision_tree = decision_tree.fit(xsms, ysms)\n",
    "Y_pred = decision_tree.predict(xsms)\n",
    "# print(decision_tree)\n",
    "print(Y_pred)\n",
    "acc_decision_tree = round(decision_tree.score(xsms, ysms) * 100, 2)\n",
    "print(acc_decision_tree)"
   ]
  },
  {
   "cell_type": "code",
   "execution_count": 450,
   "metadata": {},
   "outputs": [
    {
     "name": "stderr",
     "output_type": "stream",
     "text": [
      "C:\\Users\\tessa\\Miniconda3\\lib\\site-packages\\sklearn\\linear_model\\logistic.py:433: FutureWarning: Default solver will be changed to 'lbfgs' in 0.22. Specify a solver to silence this warning.\n",
      "  FutureWarning)\n"
     ]
    },
    {
     "data": {
      "text/plain": [
       "93.33"
      ]
     },
     "execution_count": 450,
     "metadata": {},
     "output_type": "execute_result"
    }
   ],
   "source": [
    "logreg = LogisticRegression()\n",
    "logreg.fit(xsms, ysms)\n",
    "Y_pred = logreg.predict(xsms)\n",
    "acc_log = round(logreg.score(xsms, ysms) * 100, 2)\n",
    "acc_log"
   ]
  },
  {
   "cell_type": "code",
   "execution_count": 451,
   "metadata": {},
   "outputs": [
    {
     "data": {
      "text/plain": [
       "93.45"
      ]
     },
     "execution_count": 451,
     "metadata": {},
     "output_type": "execute_result"
    }
   ],
   "source": [
    "# Gaussian Naive Bayes\n",
    "\n",
    "gaussian = GaussianNB()\n",
    "gaussian.fit(xsms, ysms)\n",
    "Y_pred = gaussian.predict(xsms)\n",
    "acc_gaussian = round(gaussian.score(xsms, ysms) * 100, 2)\n",
    "acc_gaussian"
   ]
  },
  {
   "cell_type": "code",
   "execution_count": null,
   "metadata": {},
   "outputs": [],
   "source": []
  }
 ],
 "metadata": {
  "kernelspec": {
   "display_name": "Python 3",
   "language": "python",
   "name": "python3"
  },
  "language_info": {
   "codemirror_mode": {
    "name": "ipython",
    "version": 3
   },
   "file_extension": ".py",
   "mimetype": "text/x-python",
   "name": "python",
   "nbconvert_exporter": "python",
   "pygments_lexer": "ipython3",
   "version": "3.7.1"
  }
 },
 "nbformat": 4,
 "nbformat_minor": 2
}
