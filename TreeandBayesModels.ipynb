{
 "cells": [
  {
   "cell_type": "code",
   "execution_count": 95,
   "metadata": {},
   "outputs": [],
   "source": [
    "from sklearn.tree import DecisionTreeClassifier\n",
    "import pandas as pd\n",
    "import seaborn as sns\n",
    "import matplotlib.pyplot as plt\n",
    "import numpy as np\n",
    "from copy import deepcopy\n",
    "from sklearn import tree\n",
    "from anytree import Node, RenderTree\n",
    "import random\n",
    "import math\n",
    "from sklearn.naive_bayes import GaussianNB\n",
    "import scipy.stats"
   ]
  },
  {
   "cell_type": "code",
   "execution_count": 96,
   "metadata": {},
   "outputs": [],
   "source": [
    "titanic = pd.read_csv('titanic/combites.csv')"
   ]
  },
  {
   "cell_type": "code",
   "execution_count": 97,
   "metadata": {
    "scrolled": true
   },
   "outputs": [
    {
     "name": "stdout",
     "output_type": "stream",
     "text": [
      "   PassengerId  Survived  Pclass  \\\n",
      "0            1       0.0       3   \n",
      "1            2       1.0       1   \n",
      "2            3       1.0       3   \n",
      "3            4       1.0       1   \n",
      "4            5       0.0       3   \n",
      "\n",
      "                                                Name     Sex   Age  SibSp  \\\n",
      "0                            Braund, Mr. Owen Harris    male  22.0      1   \n",
      "1  Cumings, Mrs. John Bradley (Florence Briggs Th...  female  38.0      1   \n",
      "2                             Heikkinen, Miss. Laina  female  26.0      0   \n",
      "3       Futrelle, Mrs. Jacques Heath (Lily May Peel)  female  35.0      1   \n",
      "4                           Allen, Mr. William Henry    male  35.0      0   \n",
      "\n",
      "   Parch            Ticket     Fare Cabin Embarked Dataset CabinD CabinEO  \\\n",
      "0      0         A/5 21171   7.2500   NaN        S   train      U       u   \n",
      "1      0          PC 17599  71.2833   C85        C   train      C       o   \n",
      "2      0  STON/O2. 3101282   7.9250   NaN        S   train      U       u   \n",
      "3      0            113803  53.1000  C123        S   train      C       o   \n",
      "4      0            373450   8.0500   NaN        S   train      U       u   \n",
      "\n",
      "   ColumnEmpty  Company  Companions  Alone  \n",
      "0            1        1           1      0  \n",
      "1            0        1           1      0  \n",
      "2            1        0           0      1  \n",
      "3            0        1           1      0  \n",
      "4            1        0           0      1  \n"
     ]
    }
   ],
   "source": [
    "def categorize_company(df):\n",
    "    \n",
    "    # 0 if alone, 1 if only with siblings/spouse, 2 if only with parent/children, 3 if with both (number of people is disregarded)\n",
    "    conditions = [(df.Parch + df.SibSp == 0), (df.Parch == 0) & (df.SibSp > 0), (df.Parch > 0) & (df.SibSp ==0),\n",
    "                  (df.Parch > 0) & (df.SibSp > 0)]\n",
    "    categories = [0, 1, 2, 3]\n",
    "    \n",
    "    # create company attribute\n",
    "    df[\"Company\"] = np.select(conditions, categories)\n",
    "    \n",
    "    # count companions\n",
    "    df[\"Companions\"] = df.SibSp + df.Parch\n",
    "    \n",
    "    # create alone attribute (1 if alone, 0 if not)\n",
    "    df[\"Alone\"] = np.where(df.Parch + df.SibSp > 0, 0, 1)\n",
    "        \n",
    "categorize_company(titanic)\n",
    "\n",
    "print(titanic.head())"
   ]
  },
  {
   "cell_type": "code",
   "execution_count": 98,
   "metadata": {
    "scrolled": true
   },
   "outputs": [
    {
     "name": "stdout",
     "output_type": "stream",
     "text": [
      "0       0\n",
      "1       1\n",
      "2       2\n",
      "3       1\n",
      "4       0\n",
      "5       0\n",
      "6       0\n",
      "7       3\n",
      "8       1\n",
      "9       1\n",
      "10      2\n",
      "11      2\n",
      "12      0\n",
      "13      0\n",
      "14      2\n",
      "15      1\n",
      "16      3\n",
      "17      0\n",
      "18      1\n",
      "19      1\n",
      "20      0\n",
      "21      0\n",
      "22      2\n",
      "23      0\n",
      "24      2\n",
      "25      1\n",
      "26      0\n",
      "27      0\n",
      "28      2\n",
      "29      0\n",
      "       ..\n",
      "1279    0\n",
      "1280    3\n",
      "1281    0\n",
      "1282    1\n",
      "1283    3\n",
      "1284    0\n",
      "1285    0\n",
      "1286    1\n",
      "1287    0\n",
      "1288    1\n",
      "1289    0\n",
      "1290    0\n",
      "1291    2\n",
      "1292    0\n",
      "1293    2\n",
      "1294    0\n",
      "1295    0\n",
      "1296    0\n",
      "1297    0\n",
      "1298    0\n",
      "1299    2\n",
      "1300    2\n",
      "1301    2\n",
      "1302    1\n",
      "1303    2\n",
      "1304    0\n",
      "1305    4\n",
      "1306    0\n",
      "1307    0\n",
      "1308    3\n",
      "Name: NamePrefix, Length: 1309, dtype: int32\n"
     ]
    }
   ],
   "source": [
    "# subtract title from name\n",
    "\n",
    "def format_name(df):\n",
    "    \n",
    "    # determine last name (for family indication)\n",
    "    df['Lname'] = df.Name.apply(lambda x: x.split(', ')[0])\n",
    "    \n",
    "    # determine prefix\n",
    "    df['NamePrefix'] = df.Name.apply(lambda x: x.split(', ')[1])\n",
    "    df['NamePrefix'] = df.NamePrefix.apply(lambda x: x.split(' ')[0].split('.')[0].strip())\n",
    "    \n",
    "    # dictionary of all options to categories\n",
    "    normalized_titles = {\n",
    "    \"Capt\":       5,\n",
    "    \"Col\":        5,\n",
    "    \"Major\":      5,\n",
    "    \"Jonkheer\":   4,\n",
    "    \"Don\":        4,\n",
    "    \"Sir\" :       4,\n",
    "    \"Dr\":         5,\n",
    "    \"Rev\":        5,\n",
    "    \"the\":        4,\n",
    "    \"Dona\":       4,\n",
    "    \"Mme\":        1,\n",
    "    \"Mlle\":       2,\n",
    "    \"Ms\":         1,\n",
    "    \"Mr\" :        0,\n",
    "    \"Mrs\" :       1,\n",
    "    \"Miss\" :      2,\n",
    "    \"Master\" :    3,\n",
    "    \"Lady\" :      4\n",
    "    }\n",
    "    \n",
    "    # assign title to each passenger\n",
    "    df[\"NamePrefix\"] = titanic.NamePrefix.map(normalized_titles).astype(int)\n",
    "    return df   \n",
    "\n",
    "\n",
    "format_name(titanic)\n",
    "# print(titanic.head())\n",
    "print(titanic[\"NamePrefix\"])"
   ]
  },
  {
   "cell_type": "code",
   "execution_count": 99,
   "metadata": {
    "scrolled": false
   },
   "outputs": [
    {
     "name": "stdout",
     "output_type": "stream",
     "text": [
      "   PassengerId  Survived  Pclass  \\\n",
      "0            1       0.0       3   \n",
      "1            2       1.0       1   \n",
      "2            3       1.0       3   \n",
      "3            4       1.0       1   \n",
      "4            5       0.0       3   \n",
      "\n",
      "                                                Name     Sex   Age  SibSp  \\\n",
      "0                            Braund, Mr. Owen Harris    male  22.0      1   \n",
      "1  Cumings, Mrs. John Bradley (Florence Briggs Th...  female  38.0      1   \n",
      "2                             Heikkinen, Miss. Laina  female  26.0      0   \n",
      "3       Futrelle, Mrs. Jacques Heath (Lily May Peel)  female  35.0      1   \n",
      "4                           Allen, Mr. William Henry    male  35.0      0   \n",
      "\n",
      "   Parch            Ticket     Fare  ... Dataset CabinD CabinEO ColumnEmpty  \\\n",
      "0      0         A/5 21171   7.2500  ...   train      U       u           1   \n",
      "1      0          PC 17599  71.2833  ...   train      C       o           0   \n",
      "2      0  STON/O2. 3101282   7.9250  ...   train      U       u           1   \n",
      "3      0            113803  53.1000  ...   train      C       o           0   \n",
      "4      0            373450   8.0500  ...   train      U       u           1   \n",
      "\n",
      "  Company  Companions  Alone      Lname  NamePrefix Agegroup  \n",
      "0       1           1      0     Braund           0    18-25  \n",
      "1       1           1      0    Cumings           1    35-60  \n",
      "2       0           0      1  Heikkinen           2    25-35  \n",
      "3       1           1      0   Futrelle           1    25-35  \n",
      "4       0           0      1      Allen           0    25-35  \n",
      "\n",
      "[5 rows x 22 columns]\n"
     ]
    }
   ],
   "source": [
    "# fill in missing ages based on age, title and class\n",
    "def categorize_age(df):\n",
    "    \n",
    "    # get values of sex, class and title\n",
    "    specAge = titanic.groupby([\"Sex\", \"Pclass\", \"NamePrefix\"])\n",
    "    \n",
    "    # determine the median age of each sex-class-title combinations\n",
    "    specAge.Age.median()\n",
    "    \n",
    "    # fill in median age of sex-class-title combination when age data is missing\n",
    "    titanic.Age = specAge.Age.apply(lambda x: x.fillna(x.median()))\n",
    "    \n",
    "    # group dataset in age categories\n",
    "    bins = (0, 4, 12, 18, 25, 35, 60, 100)\n",
    "    agename = [\"0-4\", \"4-12\", \"12-18\", \"18-25\", \"25-35\", \"35-60\", \"60-100\"]\n",
    "    df[\"Agegroup\"] = pd.cut(df.Age, bins, labels = agename)\n",
    "    \n",
    "categorize_age(titanic)\n",
    "print(titanic.head())"
   ]
  },
  {
   "cell_type": "code",
   "execution_count": 100,
   "metadata": {
    "scrolled": true
   },
   "outputs": [
    {
     "data": {
      "text/plain": [
       "<matplotlib.axes._subplots.AxesSubplot at 0x1bfdfa72b38>"
      ]
     },
     "execution_count": 100,
     "metadata": {},
     "output_type": "execute_result"
    },
    {
     "data": {
      "image/png": "[encoded data removed]",
      "text/plain": [
       "<Figure size 432x288 with 1 Axes>"
      ]
     },
     "metadata": {
      "needs_background": "light"
     },
     "output_type": "display_data"
    }
   ],
   "source": [
    "def categorize_fare(df):\n",
    "    \n",
    "    df[\"Faregroup\"] = pd.qcut(df.Fare, 5, labels = [0, 1, 2, 3, 4])\n",
    "    df[\"Faregroup\"] = df[\"Faregroup\"].fillna(2)\n",
    "    \n",
    "categorize_fare(titanic)\n",
    "titanic.tail()\n",
    "\n",
    "sns.barplot(x = \"Faregroup\", y = \"Survived\", data = titanic)"
   ]
  },
  {
   "cell_type": "code",
   "execution_count": 101,
   "metadata": {
    "scrolled": true
   },
   "outputs": [
    {
     "name": "stdout",
     "output_type": "stream",
     "text": [
      "   PassengerId  Survived  Pclass  \\\n",
      "0            1       0.0       3   \n",
      "1            2       1.0       1   \n",
      "2            3       1.0       3   \n",
      "3            4       1.0       1   \n",
      "4            5       0.0       3   \n",
      "\n",
      "                                                Name     Sex   Age  SibSp  \\\n",
      "0                            Braund, Mr. Owen Harris    male  22.0      1   \n",
      "1  Cumings, Mrs. John Bradley (Florence Briggs Th...  female  38.0      1   \n",
      "2                             Heikkinen, Miss. Laina  female  26.0      0   \n",
      "3       Futrelle, Mrs. Jacques Heath (Lily May Peel)  female  35.0      1   \n",
      "4                           Allen, Mr. William Henry    male  35.0      0   \n",
      "\n",
      "   Parch            Ticket     Fare  ... CabinD CabinEO ColumnEmpty Company  \\\n",
      "0      0         A/5 21171   7.2500  ...      U       u           1       1   \n",
      "1      0          PC 17599  71.2833  ...      C       o           0       1   \n",
      "2      0  STON/O2. 3101282   7.9250  ...      U       u           1       0   \n",
      "3      0            113803  53.1000  ...      C       o           0       1   \n",
      "4      0            373450   8.0500  ...      U       u           1       0   \n",
      "\n",
      "  Companions  Alone      Lname  NamePrefix  Agegroup Faregroup  \n",
      "0          1      0     Braund           0     18-25         0  \n",
      "1          1      0    Cumings           1     35-60         4  \n",
      "2          0      1  Heikkinen           2     25-35         1  \n",
      "3          1      0   Futrelle           1     25-35         4  \n",
      "4          0      1      Allen           0     25-35         1  \n",
      "\n",
      "[5 rows x 23 columns]\n"
     ]
    },
    {
     "data": {
      "image/png": "[encoded data removed]",
      "text/plain": [
       "<Figure size 432x288 with 1 Axes>"
      ]
     },
     "metadata": {
      "needs_background": "light"
     },
     "output_type": "display_data"
    }
   ],
   "source": [
    "sns.countplot(x = \"Embarked\", data = titanic)\n",
    "\n",
    "def missing_embarked(df):\n",
    "    likely_embarked = df.Embarked.mode()[0]\n",
    "    df['Embarked'] = df.Embarked.fillna(likely_embarked)\n",
    "    \n",
    "def missing_cabineo(df):\n",
    "    df['CabinEO'] = df.CabinEO.fillna('u')\n",
    "\n",
    "    \n",
    "missing_embarked(titanic)\n",
    "missing_cabineo(titanic)\n",
    "print(titanic.head())"
   ]
  },
  {
   "cell_type": "code",
   "execution_count": 102,
   "metadata": {
    "scrolled": true
   },
   "outputs": [
    {
     "data": {
      "text/plain": [
       "<matplotlib.axes._subplots.AxesSubplot at 0x1bfdf754278>"
      ]
     },
     "execution_count": 102,
     "metadata": {},
     "output_type": "execute_result"
    },
    {
     "data": {
      "image/png": "[encoded data removed]",
      "text/plain": [
       "<Figure size 432x288 with 1 Axes>"
      ]
     },
     "metadata": {
      "needs_background": "light"
     },
     "output_type": "display_data"
    }
   ],
   "source": [
    "sns.countplot(x = \"CabinEO\", data = titanic)"
   ]
  },
  {
   "cell_type": "code",
   "execution_count": 103,
   "metadata": {},
   "outputs": [
    {
     "data": {
      "text/plain": [
       "<matplotlib.axes._subplots.AxesSubplot at 0x1bfdfee1588>"
      ]
     },
     "execution_count": 103,
     "metadata": {},
     "output_type": "execute_result"
    },
    {
     "data": {
      "image/png": "[encoded data removed]",
      "text/plain": [
       "<Figure size 432x288 with 1 Axes>"
      ]
     },
     "metadata": {
      "needs_background": "light"
     },
     "output_type": "display_data"
    }
   ],
   "source": [
    "sns.barplot(x = \"ColumnEmpty\", y = \"Survived\", data = titanic)"
   ]
  },
  {
   "cell_type": "code",
   "execution_count": 104,
   "metadata": {},
   "outputs": [
    {
     "name": "stdout",
     "output_type": "stream",
     "text": [
      "   PassengerId  Survived  Pclass  \\\n",
      "0            1       0.0       3   \n",
      "1            2       1.0       1   \n",
      "2            3       1.0       3   \n",
      "3            4       1.0       1   \n",
      "4            5       0.0       3   \n",
      "\n",
      "                                                Name  Sex   Age  SibSp  Parch  \\\n",
      "0                            Braund, Mr. Owen Harris    0  22.0      1      0   \n",
      "1  Cumings, Mrs. John Bradley (Florence Briggs Th...    1  38.0      1      0   \n",
      "2                             Heikkinen, Miss. Laina    1  26.0      0      0   \n",
      "3       Futrelle, Mrs. Jacques Heath (Lily May Peel)    1  35.0      1      0   \n",
      "4                           Allen, Mr. William Henry    0  35.0      0      0   \n",
      "\n",
      "             Ticket     Fare  ... CabinD  CabinEO ColumnEmpty Company  \\\n",
      "0         A/5 21171   7.2500  ...      U        2           1       1   \n",
      "1          PC 17599  71.2833  ...      C        1           0       1   \n",
      "2  STON/O2. 3101282   7.9250  ...      U        2           1       0   \n",
      "3            113803  53.1000  ...      C        1           0       1   \n",
      "4            373450   8.0500  ...      U        2           1       0   \n",
      "\n",
      "   Companions  Alone      Lname  NamePrefix  Agegroup Faregroup  \n",
      "0           1      0     Braund           0         3         0  \n",
      "1           1      0    Cumings           1         5         4  \n",
      "2           0      1  Heikkinen           2         4         1  \n",
      "3           1      0   Futrelle           1         4         4  \n",
      "4           0      1      Allen           0         4         1  \n",
      "\n",
      "[5 rows x 23 columns]\n"
     ]
    }
   ],
   "source": [
    "def transform_categorical_values(df):\n",
    "    \n",
    "    df['Sex'] = df['Sex'].map( {'female': 1, 'male': 0} ).astype(int)\n",
    "    df['Agegroup'] = df['Agegroup'].map({'0-4': 0, '4-12': 1, '12-18': 2, '18-25': 3, '25-35': 4, '35-60': 5, '60-100': 6}).astype(int)\n",
    "    df['Embarked'] = df['Embarked'].map({'S': 0, 'C': 1, 'Q': 2}).astype(int)\n",
    "    df['CabinEO'] = df['CabinEO'].map({'e': 0, 'o': 1, 'u': 2}).astype(int)\n",
    "    \n",
    "\n",
    "transform_categorical_values(titanic)\n",
    "print(titanic.head())"
   ]
  },
  {
   "cell_type": "code",
   "execution_count": 105,
   "metadata": {
    "scrolled": false
   },
   "outputs": [
    {
     "name": "stdout",
     "output_type": "stream",
     "text": [
      "      PassengerId  Survived  Pclass  Sex  SibSp  Parch  Embarked Dataset  \\\n",
      "0               1       0.0       3    0      1      0         0   train   \n",
      "1               2       1.0       1    1      1      0         1   train   \n",
      "2               3       1.0       3    1      0      0         0   train   \n",
      "3               4       1.0       1    1      1      0         0   train   \n",
      "4               5       0.0       3    0      0      0         0   train   \n",
      "5               6       0.0       3    0      0      0         2   train   \n",
      "6               7       0.0       1    0      0      0         0   train   \n",
      "7               8       0.0       3    0      3      1         0   train   \n",
      "8               9       1.0       3    1      0      2         0   train   \n",
      "9              10       1.0       2    1      1      0         1   train   \n",
      "10             11       1.0       3    1      1      1         0   train   \n",
      "11             12       1.0       1    1      0      0         0   train   \n",
      "12             13       0.0       3    0      0      0         0   train   \n",
      "13             14       0.0       3    0      1      5         0   train   \n",
      "14             15       0.0       3    1      0      0         0   train   \n",
      "15             16       1.0       2    1      0      0         0   train   \n",
      "16             17       0.0       3    0      4      1         2   train   \n",
      "17             18       1.0       2    0      0      0         0   train   \n",
      "18             19       0.0       3    1      1      0         0   train   \n",
      "19             20       1.0       3    1      0      0         1   train   \n",
      "20             21       0.0       2    0      0      0         0   train   \n",
      "21             22       1.0       2    0      0      0         0   train   \n",
      "22             23       1.0       3    1      0      0         2   train   \n",
      "23             24       1.0       1    0      0      0         0   train   \n",
      "24             25       0.0       3    1      3      1         0   train   \n",
      "25             26       1.0       3    1      1      5         0   train   \n",
      "26             27       0.0       3    0      0      0         1   train   \n",
      "27             28       0.0       1    0      3      2         0   train   \n",
      "28             29       1.0       3    1      0      0         2   train   \n",
      "29             30       0.0       3    0      0      0         0   train   \n",
      "...           ...       ...     ...  ...    ...    ...       ...     ...   \n",
      "1279         1280       NaN       3    0      0      0         2    test   \n",
      "1280         1281       NaN       3    0      3      1         0    test   \n",
      "1281         1282       NaN       1    0      0      0         0    test   \n",
      "1282         1283       NaN       1    1      0      1         0    test   \n",
      "1283         1284       NaN       3    0      0      2         0    test   \n",
      "1284         1285       NaN       2    0      0      0         0    test   \n",
      "1285         1286       NaN       3    0      3      1         0    test   \n",
      "1286         1287       NaN       1    1      1      0         0    test   \n",
      "1287         1288       NaN       3    0      0      0         2    test   \n",
      "1288         1289       NaN       1    1      1      1         1    test   \n",
      "1289         1290       NaN       3    0      0      0         0    test   \n",
      "1290         1291       NaN       3    0      0      0         2    test   \n",
      "1291         1292       NaN       1    1      0      0         0    test   \n",
      "1292         1293       NaN       2    0      1      0         0    test   \n",
      "1293         1294       NaN       1    1      0      1         1    test   \n",
      "1294         1295       NaN       1    0      0      0         0    test   \n",
      "1295         1296       NaN       1    0      1      0         1    test   \n",
      "1296         1297       NaN       2    0      0      0         1    test   \n",
      "1297         1298       NaN       2    0      1      0         0    test   \n",
      "1298         1299       NaN       1    0      1      1         1    test   \n",
      "1299         1300       NaN       3    1      0      0         2    test   \n",
      "1300         1301       NaN       3    1      1      1         0    test   \n",
      "1301         1302       NaN       3    1      0      0         2    test   \n",
      "1302         1303       NaN       1    1      1      0         2    test   \n",
      "1303         1304       NaN       3    1      0      0         0    test   \n",
      "1304         1305       NaN       3    0      0      0         0    test   \n",
      "1305         1306       NaN       1    1      0      0         1    test   \n",
      "1306         1307       NaN       3    0      0      0         0    test   \n",
      "1307         1308       NaN       3    0      0      0         0    test   \n",
      "1308         1309       NaN       3    0      1      1         1    test   \n",
      "\n",
      "      CabinEO  ColumnEmpty  Company  Companions  Alone  NamePrefix  Agegroup  \\\n",
      "0           2            1        1           1      0           0         3   \n",
      "1           1            0        1           1      0           1         5   \n",
      "2           2            1        0           0      1           2         4   \n",
      "3           1            0        1           1      0           1         4   \n",
      "4           2            1        0           0      1           0         4   \n",
      "5           2            2        0           0      1           0         4   \n",
      "6           0            0        0           0      1           0         5   \n",
      "7           2            1        3           4      0           3         0   \n",
      "8           2            1        2           2      0           1         4   \n",
      "9           2            1        1           1      0           1         2   \n",
      "10          0            0        3           2      0           2         0   \n",
      "11          1            0        0           0      1           2         5   \n",
      "12          2            1        0           0      1           0         3   \n",
      "13          2            1        3           6      0           0         5   \n",
      "14          2            1        0           0      1           2         2   \n",
      "15          2            1        0           0      1           1         5   \n",
      "16          2            1        3           5      0           3         0   \n",
      "17          2            2        0           0      1           0         4   \n",
      "18          2            1        1           1      0           1         4   \n",
      "19          2            2        0           0      1           1         4   \n",
      "20          2            1        0           0      1           0         4   \n",
      "21          0            0        0           0      1           0         4   \n",
      "22          2            1        0           0      1           2         2   \n",
      "23          0            0        0           0      1           0         4   \n",
      "24          2            1        3           4      0           2         1   \n",
      "25          2            1        3           6      0           1         5   \n",
      "26          2            2        0           0      1           0         4   \n",
      "27          1            0        3           5      0           0         3   \n",
      "28          2            2        0           0      1           2         2   \n",
      "29          2            2        0           0      1           0         4   \n",
      "...       ...          ...      ...         ...    ...         ...       ...   \n",
      "1279        2            1        0           0      1           0         3   \n",
      "1280        2            1        3           4      0           3         1   \n",
      "1281        0            0        0           0      1           0         3   \n",
      "1282        0            0        2           1      0           1         5   \n",
      "1283        2            1        2           2      0           3         2   \n",
      "1284        2            1        0           0      1           0         5   \n",
      "1285        2            1        3           4      0           0         4   \n",
      "1286        1            0        1           1      0           1         2   \n",
      "1287        2            1        0           0      1           0         3   \n",
      "1288        1            0        3           2      0           1         5   \n",
      "1289        2            1        0           0      1           0         3   \n",
      "1290        2            1        0           0      1           0         4   \n",
      "1291        1            0        0           0      1           2         4   \n",
      "1292        2            1        1           1      0           0         5   \n",
      "1293        2            1        2           1      0           2         3   \n",
      "1294        2            1        0           0      1           0         2   \n",
      "1295        0            0        1           1      0           0         5   \n",
      "1296        2            0        0           0      1           0         3   \n",
      "1297        2            1        1           1      0           0         3   \n",
      "1298        0            0        3           2      0           0         5   \n",
      "1299        2            2        0           0      1           2         2   \n",
      "1300        2            1        3           2      0           2         0   \n",
      "1301        2            2        0           0      1           2         2   \n",
      "1302        0            0        1           1      0           1         5   \n",
      "1303        2            1        0           0      1           2         4   \n",
      "1304        2            2        0           0      1           0         4   \n",
      "1305        1            0        0           0      1           4         5   \n",
      "1306        2            1        0           0      1           0         5   \n",
      "1307        2            2        0           0      1           0         4   \n",
      "1308        2            2        3           2      0           3         1   \n",
      "\n",
      "     Faregroup  \n",
      "0            0  \n",
      "1            4  \n",
      "2            1  \n",
      "3            4  \n",
      "4            1  \n",
      "5            1  \n",
      "6            4  \n",
      "7            2  \n",
      "8            2  \n",
      "9            3  \n",
      "10           2  \n",
      "11           3  \n",
      "12           1  \n",
      "13           3  \n",
      "14           0  \n",
      "15           2  \n",
      "16           3  \n",
      "17           2  \n",
      "18           2  \n",
      "19           0  \n",
      "20           3  \n",
      "21           2  \n",
      "22           1  \n",
      "23           3  \n",
      "24           2  \n",
      "25           3  \n",
      "26           0  \n",
      "27           4  \n",
      "28           1  \n",
      "29           1  \n",
      "...        ...  \n",
      "1279         0  \n",
      "1280         2  \n",
      "1281         4  \n",
      "1282         3  \n",
      "1283         2  \n",
      "1284         1  \n",
      "1285         3  \n",
      "1286         4  \n",
      "1287         0  \n",
      "1288         4  \n",
      "1289         0  \n",
      "1290         0  \n",
      "1291         4  \n",
      "1292         2  \n",
      "1293         4  \n",
      "1294         4  \n",
      "1295         3  \n",
      "1296         2  \n",
      "1297         1  \n",
      "1298         4  \n",
      "1299         0  \n",
      "1300         2  \n",
      "1301         0  \n",
      "1302         4  \n",
      "1303         0  \n",
      "1304         1  \n",
      "1305         4  \n",
      "1306         0  \n",
      "1307         1  \n",
      "1308         3  \n",
      "\n",
      "[1309 rows x 16 columns]\n"
     ]
    }
   ],
   "source": [
    "# delete unneccesary attributes\n",
    "def drop_attributes(df):\n",
    "    return df.drop(['Ticket', 'Cabin', 'Name', 'Age', 'Fare', 'Lname', 'CabinD'], axis=1)\n",
    "\n",
    "newtitanic = drop_attributes(titanic)\n",
    "print(newtitanic)"
   ]
  },
  {
   "cell_type": "code",
   "execution_count": 106,
   "metadata": {},
   "outputs": [
    {
     "name": "stdout",
     "output_type": "stream",
     "text": [
      "     PassengerId  Survived  Pclass  Sex  SibSp  Parch  Embarked  CabinEO  \\\n",
      "0              1       0.0       3    0      1      0         0        2   \n",
      "1              2       1.0       1    1      1      0         1        1   \n",
      "2              3       1.0       3    1      0      0         0        2   \n",
      "3              4       1.0       1    1      1      0         0        1   \n",
      "4              5       0.0       3    0      0      0         0        2   \n",
      "5              6       0.0       3    0      0      0         2        2   \n",
      "6              7       0.0       1    0      0      0         0        0   \n",
      "7              8       0.0       3    0      3      1         0        2   \n",
      "8              9       1.0       3    1      0      2         0        2   \n",
      "9             10       1.0       2    1      1      0         1        2   \n",
      "10            11       1.0       3    1      1      1         0        0   \n",
      "11            12       1.0       1    1      0      0         0        1   \n",
      "12            13       0.0       3    0      0      0         0        2   \n",
      "13            14       0.0       3    0      1      5         0        2   \n",
      "14            15       0.0       3    1      0      0         0        2   \n",
      "15            16       1.0       2    1      0      0         0        2   \n",
      "16            17       0.0       3    0      4      1         2        2   \n",
      "17            18       1.0       2    0      0      0         0        2   \n",
      "18            19       0.0       3    1      1      0         0        2   \n",
      "19            20       1.0       3    1      0      0         1        2   \n",
      "20            21       0.0       2    0      0      0         0        2   \n",
      "21            22       1.0       2    0      0      0         0        0   \n",
      "22            23       1.0       3    1      0      0         2        2   \n",
      "23            24       1.0       1    0      0      0         0        0   \n",
      "24            25       0.0       3    1      3      1         0        2   \n",
      "25            26       1.0       3    1      1      5         0        2   \n",
      "26            27       0.0       3    0      0      0         1        2   \n",
      "27            28       0.0       1    0      3      2         0        1   \n",
      "28            29       1.0       3    1      0      0         2        2   \n",
      "29            30       0.0       3    0      0      0         0        2   \n",
      "..           ...       ...     ...  ...    ...    ...       ...      ...   \n",
      "861          862       0.0       2    0      1      0         0        2   \n",
      "862          863       1.0       1    1      0      0         0        1   \n",
      "863          864       0.0       3    1      8      2         0        2   \n",
      "864          865       0.0       2    0      0      0         0        2   \n",
      "865          866       1.0       2    1      0      0         0        2   \n",
      "866          867       1.0       2    1      1      0         1        2   \n",
      "867          868       0.0       1    0      0      0         0        0   \n",
      "868          869       0.0       3    0      0      0         0        2   \n",
      "869          870       1.0       3    0      1      1         0        2   \n",
      "870          871       0.0       3    0      0      0         0        2   \n",
      "871          872       1.0       1    1      1      1         0        1   \n",
      "872          873       0.0       1    0      0      0         0        1   \n",
      "873          874       0.0       3    0      0      0         0        2   \n",
      "874          875       1.0       2    1      1      0         1        2   \n",
      "875          876       1.0       3    1      0      0         1        2   \n",
      "876          877       0.0       3    0      0      0         0        2   \n",
      "877          878       0.0       3    0      0      0         0        2   \n",
      "878          879       0.0       3    0      0      0         0        2   \n",
      "879          880       1.0       1    1      0      1         1        0   \n",
      "880          881       1.0       2    1      0      1         0        2   \n",
      "881          882       0.0       3    0      0      0         0        2   \n",
      "882          883       0.0       3    1      0      0         0        2   \n",
      "883          884       0.0       2    0      0      0         0        2   \n",
      "884          885       0.0       3    0      0      0         0        2   \n",
      "885          886       0.0       3    1      0      5         2        2   \n",
      "886          887       0.0       2    0      0      0         0        2   \n",
      "887          888       1.0       1    1      0      0         0        0   \n",
      "888          889       0.0       3    1      1      2         0        2   \n",
      "889          890       1.0       1    0      0      0         1        0   \n",
      "890          891       0.0       3    0      0      0         2        2   \n",
      "\n",
      "     ColumnEmpty  Company  Companions  Alone  NamePrefix  Agegroup Faregroup  \n",
      "0              1        1           1      0           0         3         0  \n",
      "1              0        1           1      0           1         5         4  \n",
      "2              1        0           0      1           2         4         1  \n",
      "3              0        1           1      0           1         4         4  \n",
      "4              1        0           0      1           0         4         1  \n",
      "5              2        0           0      1           0         4         1  \n",
      "6              0        0           0      1           0         5         4  \n",
      "7              1        3           4      0           3         0         2  \n",
      "8              1        2           2      0           1         4         2  \n",
      "9              1        1           1      0           1         2         3  \n",
      "10             0        3           2      0           2         0         2  \n",
      "11             0        0           0      1           2         5         3  \n",
      "12             1        0           0      1           0         3         1  \n",
      "13             1        3           6      0           0         5         3  \n",
      "14             1        0           0      1           2         2         0  \n",
      "15             1        0           0      1           1         5         2  \n",
      "16             1        3           5      0           3         0         3  \n",
      "17             2        0           0      1           0         4         2  \n",
      "18             1        1           1      0           1         4         2  \n",
      "19             2        0           0      1           1         4         0  \n",
      "20             1        0           0      1           0         4         3  \n",
      "21             0        0           0      1           0         4         2  \n",
      "22             1        0           0      1           2         2         1  \n",
      "23             0        0           0      1           0         4         3  \n",
      "24             1        3           4      0           2         1         2  \n",
      "25             1        3           6      0           1         5         3  \n",
      "26             2        0           0      1           0         4         0  \n",
      "27             0        3           5      0           0         3         4  \n",
      "28             2        0           0      1           2         2         1  \n",
      "29             2        0           0      1           0         4         1  \n",
      "..           ...      ...         ...    ...         ...       ...       ...  \n",
      "861            1        1           1      0           0         3         2  \n",
      "862            0        0           0      1           1         5         3  \n",
      "863            2        3          10      0           2         2         4  \n",
      "864            1        0           0      1           0         3         2  \n",
      "865            1        0           0      1           1         5         2  \n",
      "866            1        1           1      0           2         4         2  \n",
      "867            0        0           0      1           0         4         4  \n",
      "868            2        0           0      1           0         4         1  \n",
      "869            1        3           2      0           3         0         2  \n",
      "870            1        0           0      1           0         4         1  \n",
      "871            0        3           2      0           1         5         4  \n",
      "872            0        0           0      1           0         4         0  \n",
      "873            1        0           0      1           0         5         1  \n",
      "874            1        1           1      0           1         4         3  \n",
      "875            1        0           0      1           2         2         0  \n",
      "876            1        0           0      1           0         3         1  \n",
      "877            1        0           0      1           0         3         1  \n",
      "878            2        0           0      1           0         4         1  \n",
      "879            0        2           1      0           1         5         4  \n",
      "880            1        2           1      0           1         3         3  \n",
      "881            1        0           0      1           0         4         1  \n",
      "882            1        0           0      1           2         3         2  \n",
      "883            1        0           0      1           0         4         1  \n",
      "884            1        0           0      1           0         3         0  \n",
      "885            1        2           5      0           1         5         3  \n",
      "886            1        0           0      1           5         4         2  \n",
      "887            0        0           0      1           2         3         3  \n",
      "888            2        3           3      0           2         2         3  \n",
      "889            0        0           0      1           0         4         3  \n",
      "890            1        0           0      1           0         4         0  \n",
      "\n",
      "[891 rows x 15 columns]\n"
     ]
    }
   ],
   "source": [
    "def split_sets(df):\n",
    "    # select training part of dataset for rule making\n",
    "    trainset = df.loc[df['Dataset'] == 'train']\n",
    "\n",
    "    # select test part of dataset for later\n",
    "    testset = df.loc[df['Dataset'] == 'test']\n",
    "    \n",
    "    trainset = trainset.drop(['Dataset'], axis = 1)\n",
    "    testset = testset.drop(['Dataset'], axis = 1)\n",
    "    \n",
    "    return trainset, testset\n",
    "\n",
    "newtrain, newtest = split_sets(newtitanic)[0], split_sets(newtitanic)[1]\n",
    "# newtrain = newtrain.drop(['Dataset'])\n",
    "# newtest = newtest.drop(['Dataset'])\n",
    "\n",
    "print(newtrain)"
   ]
  },
  {
   "cell_type": "code",
   "execution_count": 107,
   "metadata": {},
   "outputs": [
    {
     "data": {
      "text/html": [
       "<div>\n",
       "<style scoped>\n",
       "    .dataframe tbody tr th:only-of-type {\n",
       "        vertical-align: middle;\n",
       "    }\n",
       "\n",
       "    .dataframe tbody tr th {\n",
       "        vertical-align: top;\n",
       "    }\n",
       "\n",
       "    .dataframe thead th {\n",
       "        text-align: right;\n",
       "    }\n",
       "</style>\n",
       "<table border=\"1\" class=\"dataframe\">\n",
       "  <thead>\n",
       "    <tr style=\"text-align: right;\">\n",
       "      <th></th>\n",
       "      <th>PassengerId</th>\n",
       "      <th>Survived</th>\n",
       "      <th>Pclass</th>\n",
       "      <th>Sex</th>\n",
       "      <th>SibSp</th>\n",
       "      <th>Parch</th>\n",
       "      <th>Embarked</th>\n",
       "      <th>CabinEO</th>\n",
       "      <th>ColumnEmpty</th>\n",
       "      <th>Company</th>\n",
       "      <th>Companions</th>\n",
       "      <th>Alone</th>\n",
       "      <th>NamePrefix</th>\n",
       "      <th>Agegroup</th>\n",
       "    </tr>\n",
       "  </thead>\n",
       "  <tbody>\n",
       "    <tr>\n",
       "      <th>count</th>\n",
       "      <td>891.000000</td>\n",
       "      <td>891.000000</td>\n",
       "      <td>891.000000</td>\n",
       "      <td>891.000000</td>\n",
       "      <td>891.000000</td>\n",
       "      <td>891.000000</td>\n",
       "      <td>891.000000</td>\n",
       "      <td>891.000000</td>\n",
       "      <td>891.000000</td>\n",
       "      <td>891.000000</td>\n",
       "      <td>891.000000</td>\n",
       "      <td>891.000000</td>\n",
       "      <td>891.000000</td>\n",
       "      <td>891.000000</td>\n",
       "    </tr>\n",
       "    <tr>\n",
       "      <th>mean</th>\n",
       "      <td>446.000000</td>\n",
       "      <td>0.383838</td>\n",
       "      <td>2.308642</td>\n",
       "      <td>0.352413</td>\n",
       "      <td>0.523008</td>\n",
       "      <td>0.381594</td>\n",
       "      <td>0.361392</td>\n",
       "      <td>1.667789</td>\n",
       "      <td>0.971942</td>\n",
       "      <td>0.795735</td>\n",
       "      <td>0.904602</td>\n",
       "      <td>0.602694</td>\n",
       "      <td>0.813692</td>\n",
       "      <td>3.594837</td>\n",
       "    </tr>\n",
       "    <tr>\n",
       "      <th>std</th>\n",
       "      <td>257.353842</td>\n",
       "      <td>0.486592</td>\n",
       "      <td>0.836071</td>\n",
       "      <td>0.477990</td>\n",
       "      <td>1.102743</td>\n",
       "      <td>0.806057</td>\n",
       "      <td>0.635673</td>\n",
       "      <td>0.675133</td>\n",
       "      <td>0.618351</td>\n",
       "      <td>1.131184</td>\n",
       "      <td>1.613459</td>\n",
       "      <td>0.489615</td>\n",
       "      <td>1.143164</td>\n",
       "      <td>1.373397</td>\n",
       "    </tr>\n",
       "    <tr>\n",
       "      <th>min</th>\n",
       "      <td>1.000000</td>\n",
       "      <td>0.000000</td>\n",
       "      <td>1.000000</td>\n",
       "      <td>0.000000</td>\n",
       "      <td>0.000000</td>\n",
       "      <td>0.000000</td>\n",
       "      <td>0.000000</td>\n",
       "      <td>0.000000</td>\n",
       "      <td>0.000000</td>\n",
       "      <td>0.000000</td>\n",
       "      <td>0.000000</td>\n",
       "      <td>0.000000</td>\n",
       "      <td>0.000000</td>\n",
       "      <td>0.000000</td>\n",
       "    </tr>\n",
       "    <tr>\n",
       "      <th>25%</th>\n",
       "      <td>223.500000</td>\n",
       "      <td>0.000000</td>\n",
       "      <td>2.000000</td>\n",
       "      <td>0.000000</td>\n",
       "      <td>0.000000</td>\n",
       "      <td>0.000000</td>\n",
       "      <td>0.000000</td>\n",
       "      <td>2.000000</td>\n",
       "      <td>1.000000</td>\n",
       "      <td>0.000000</td>\n",
       "      <td>0.000000</td>\n",
       "      <td>0.000000</td>\n",
       "      <td>0.000000</td>\n",
       "      <td>3.000000</td>\n",
       "    </tr>\n",
       "    <tr>\n",
       "      <th>50%</th>\n",
       "      <td>446.000000</td>\n",
       "      <td>0.000000</td>\n",
       "      <td>3.000000</td>\n",
       "      <td>0.000000</td>\n",
       "      <td>0.000000</td>\n",
       "      <td>0.000000</td>\n",
       "      <td>0.000000</td>\n",
       "      <td>2.000000</td>\n",
       "      <td>1.000000</td>\n",
       "      <td>0.000000</td>\n",
       "      <td>0.000000</td>\n",
       "      <td>1.000000</td>\n",
       "      <td>0.000000</td>\n",
       "      <td>4.000000</td>\n",
       "    </tr>\n",
       "    <tr>\n",
       "      <th>75%</th>\n",
       "      <td>668.500000</td>\n",
       "      <td>1.000000</td>\n",
       "      <td>3.000000</td>\n",
       "      <td>1.000000</td>\n",
       "      <td>1.000000</td>\n",
       "      <td>0.000000</td>\n",
       "      <td>1.000000</td>\n",
       "      <td>2.000000</td>\n",
       "      <td>1.000000</td>\n",
       "      <td>1.000000</td>\n",
       "      <td>1.000000</td>\n",
       "      <td>1.000000</td>\n",
       "      <td>2.000000</td>\n",
       "      <td>5.000000</td>\n",
       "    </tr>\n",
       "    <tr>\n",
       "      <th>max</th>\n",
       "      <td>891.000000</td>\n",
       "      <td>1.000000</td>\n",
       "      <td>3.000000</td>\n",
       "      <td>1.000000</td>\n",
       "      <td>8.000000</td>\n",
       "      <td>6.000000</td>\n",
       "      <td>2.000000</td>\n",
       "      <td>2.000000</td>\n",
       "      <td>2.000000</td>\n",
       "      <td>3.000000</td>\n",
       "      <td>10.000000</td>\n",
       "      <td>1.000000</td>\n",
       "      <td>5.000000</td>\n",
       "      <td>6.000000</td>\n",
       "    </tr>\n",
       "  </tbody>\n",
       "</table>\n",
       "</div>"
      ],
      "text/plain": [
       "       PassengerId    Survived      Pclass         Sex       SibSp  \\\n",
       "count   891.000000  891.000000  891.000000  891.000000  891.000000   \n",
       "mean    446.000000    0.383838    2.308642    0.352413    0.523008   \n",
       "std     257.353842    0.486592    0.836071    0.477990    1.102743   \n",
       "min       1.000000    0.000000    1.000000    0.000000    0.000000   \n",
       "25%     223.500000    0.000000    2.000000    0.000000    0.000000   \n",
       "50%     446.000000    0.000000    3.000000    0.000000    0.000000   \n",
       "75%     668.500000    1.000000    3.000000    1.000000    1.000000   \n",
       "max     891.000000    1.000000    3.000000    1.000000    8.000000   \n",
       "\n",
       "            Parch    Embarked     CabinEO  ColumnEmpty     Company  \\\n",
       "count  891.000000  891.000000  891.000000   891.000000  891.000000   \n",
       "mean     0.381594    0.361392    1.667789     0.971942    0.795735   \n",
       "std      0.806057    0.635673    0.675133     0.618351    1.131184   \n",
       "min      0.000000    0.000000    0.000000     0.000000    0.000000   \n",
       "25%      0.000000    0.000000    2.000000     1.000000    0.000000   \n",
       "50%      0.000000    0.000000    2.000000     1.000000    0.000000   \n",
       "75%      0.000000    1.000000    2.000000     1.000000    1.000000   \n",
       "max      6.000000    2.000000    2.000000     2.000000    3.000000   \n",
       "\n",
       "       Companions       Alone  NamePrefix    Agegroup  \n",
       "count  891.000000  891.000000  891.000000  891.000000  \n",
       "mean     0.904602    0.602694    0.813692    3.594837  \n",
       "std      1.613459    0.489615    1.143164    1.373397  \n",
       "min      0.000000    0.000000    0.000000    0.000000  \n",
       "25%      0.000000    0.000000    0.000000    3.000000  \n",
       "50%      0.000000    1.000000    0.000000    4.000000  \n",
       "75%      1.000000    1.000000    2.000000    5.000000  \n",
       "max     10.000000    1.000000    5.000000    6.000000  "
      ]
     },
     "execution_count": 107,
     "metadata": {},
     "output_type": "execute_result"
    }
   ],
   "source": [
    "newtrain.describe()"
   ]
  },
  {
   "cell_type": "code",
   "execution_count": 108,
   "metadata": {},
   "outputs": [
    {
     "data": {
      "text/plain": [
       "False"
      ]
     },
     "execution_count": 108,
     "metadata": {},
     "output_type": "execute_result"
    }
   ],
   "source": [
    "# newtrain.describe(include=['O'])\n",
    "\n",
    "newtrain.isnull().values.any()"
   ]
  },
  {
   "cell_type": "code",
   "execution_count": 109,
   "metadata": {},
   "outputs": [
    {
     "data": {
      "text/plain": [
       "((891, 13), (891,), (418, 13))"
      ]
     },
     "execution_count": 109,
     "metadata": {},
     "output_type": "execute_result"
    }
   ],
   "source": [
    "X_train = newtrain.drop([\"Survived\", \"PassengerId\"], axis=1)\n",
    "Y_train = newtrain[\"Survived\"]\n",
    "X_test  = newtest.drop([\"Survived\", \"PassengerId\"], axis=1).copy()\n",
    "X_train.shape, Y_train.shape, X_test.shape\n",
    "\n",
    "\n",
    "\n",
    "# print(X_test.head())\n",
    "# X_test.isnull().values.any()\n",
    "# X_test.Faregroup.head()"
   ]
  },
  {
   "cell_type": "code",
   "execution_count": 110,
   "metadata": {
    "scrolled": true
   },
   "outputs": [
    {
     "name": "stdout",
     "output_type": "stream",
     "text": [
      "[0. 0. 0. 0. 1. 0. 0. 0. 1. 0. 0. 0. 1. 0. 1. 1. 1. 0. 0. 1. 0. 1. 1. 0.\n",
      " 1. 0. 1. 0. 1. 0. 0. 0. 1. 1. 1. 0. 0. 0. 0. 1. 0. 0. 0. 1. 1. 0. 0. 0.\n",
      " 1. 0. 0. 1. 1. 1. 0. 0. 0. 0. 0. 1. 0. 0. 0. 0. 1. 1. 1. 0. 0. 1. 0. 0.\n",
      " 0. 0. 1. 0. 0. 1. 0. 0. 1. 0. 0. 0. 0. 0. 0. 1. 1. 1. 1. 0. 0. 0. 1. 0.\n",
      " 1. 0. 1. 0. 1. 0. 0. 0. 1. 0. 0. 0. 0. 0. 0. 1. 0. 0. 1. 0. 0. 1. 0. 1.\n",
      " 1. 0. 1. 0. 0. 0. 0. 1. 0. 0. 0. 1. 0. 0. 0. 0. 0. 0. 0. 1. 0. 1. 0. 0.\n",
      " 0. 0. 0. 0. 0. 0. 1. 0. 0. 0. 0. 0. 1. 1. 0. 1. 1. 1. 1. 0. 0. 0. 0. 0.\n",
      " 1. 0. 0. 0. 0. 0. 0. 1. 1. 0. 1. 1. 0. 0. 1. 0. 1. 0. 1. 0. 0. 0. 0. 0.\n",
      " 1. 0. 1. 0. 1. 0. 0. 0. 1. 1. 1. 1. 0. 0. 0. 0. 1. 0. 0. 0. 0. 1. 1. 0.\n",
      " 1. 0. 1. 0. 1. 0. 1. 0. 1. 0. 0. 1. 0. 0. 0. 1. 0. 0. 1. 0. 0. 0. 1. 1.\n",
      " 1. 1. 0. 0. 1. 0. 0. 0. 1. 0. 1. 0. 1. 0. 0. 0. 0. 0. 0. 0. 0. 0. 1. 1.\n",
      " 1. 0. 0. 0. 0. 0. 0. 0. 1. 1. 0. 1. 0. 0. 0. 0. 0. 1. 1. 0. 1. 0. 0. 0.\n",
      " 0. 0. 0. 0. 0. 0. 0. 0. 1. 0. 0. 0. 0. 1. 0. 0. 1. 1. 0. 1. 0. 0. 0. 0.\n",
      " 0. 0. 1. 1. 0. 0. 0. 0. 0. 0. 1. 1. 1. 0. 1. 0. 0. 0. 1. 0. 0. 1. 0. 1.\n",
      " 0. 0. 0. 1. 0. 0. 1. 1. 1. 0. 0. 1. 0. 1. 1. 0. 0. 1. 1. 0. 1. 0. 0. 0.\n",
      " 0. 1. 1. 0. 1. 0. 0. 0. 1. 1. 0. 1. 0. 0. 1. 1. 0. 0. 0. 0. 0. 0. 0. 1.\n",
      " 1. 1. 0. 0. 0. 0. 0. 1. 0. 0. 0. 1. 0. 1. 0. 0. 1. 0. 1. 0. 0. 0. 1. 0.\n",
      " 1. 1. 1. 1. 0. 0. 1. 0. 0. 1.]\n",
      "91.81\n",
      "   PassengerId  Survived\n",
      "0          892       0.0\n",
      "1          893       0.0\n",
      "2          894       0.0\n",
      "3          895       0.0\n",
      "4          896       1.0\n",
      "Number of nodes: 385\n"
     ]
    }
   ],
   "source": [
    "# Decision Tree\n",
    "from sklearn.cluster import KMeans\n",
    "\n",
    "\n",
    "\n",
    "decision_tree = DecisionTreeClassifier()\n",
    "decision_tree = decision_tree.fit(X_train, Y_train)\n",
    "Y_pred = decision_tree.predict(X_test)\n",
    "# print(decision_tree)\n",
    "print(Y_pred)\n",
    "acc_decision_tree = round(decision_tree.score(X_train, Y_train) * 100, 2)\n",
    "print(acc_decision_tree)\n",
    "\n",
    "\n",
    "submission_tree = pd.read_csv('titanic/submission.csv')\n",
    "submission_tree[\"Survived\"] = Y_pred\n",
    "print(submission_tree.head())\n",
    "\n",
    "# csv.writer(submission_tree, dialect='excel', **fmtparams)\n",
    "# clf = tree.DecisionTreeClassifier()\n",
    "# iris = load_iris()\n",
    "submission_tree.to_csv('tree_sub_try2.csv', index = False)\n",
    "\n",
    "# decision_tree = decision_tree.fit(iris.data, iris.target)\n",
    "tree.export_graphviz(decision_tree, out_file='tree.dot')    \n",
    "\n",
    "print(\"Number of nodes:\", decision_tree.tree_.node_count)"
   ]
  },
  {
   "cell_type": "code",
   "execution_count": 111,
   "metadata": {},
   "outputs": [
    {
     "name": "stdout",
     "output_type": "stream",
     "text": [
      "80.02\n",
      "   PassengerId  Survived\n",
      "0          892         0\n",
      "1          893         1\n",
      "2          894         0\n",
      "3          895         0\n",
      "4          896         1\n"
     ]
    }
   ],
   "source": [
    "# Gaussian Naive Bayes\n",
    "\n",
    "gaussian = GaussianNB()\n",
    "gaussian.fit(X_train, Y_train)\n",
    "Y_pred = gaussian.predict(X_test).astype(int)\n",
    "acc_gaussian = round(gaussian.score(X_train, Y_train) * 100, 2)\n",
    "print(acc_gaussian)\n",
    "\n",
    "submission_bayes = pd.read_csv('titanic/submission.csv')\n",
    "submission_bayes[\"Survived\"] = Y_pred\n",
    "print(submission_bayes.head())\n",
    "\n",
    "submission_tree.to_csv('bayes_sub_try3.csv', index = False)   "
   ]
  },
  {
   "cell_type": "code",
   "execution_count": 112,
   "metadata": {
    "scrolled": true
   },
   "outputs": [
    {
     "name": "stdout",
     "output_type": "stream",
     "text": [
      "Average percentage correct decision tree:  0.7856317870817902\n"
     ]
    }
   ],
   "source": [
    "perc_correct = []\n",
    "\n",
    "for i in range(5):\n",
    "    X_train = newtrain.drop([\"Survived\", \"PassengerId\"], axis=1)\n",
    "    X_train_k1, X_test_k, X_train_k2 = np.split(X_train, [int(0.2*i*len(Y_train)), int(((0.2*i) + 0.2)*len(Y_train))])\n",
    "    X_train_k = pd.concat([X_train_k1, X_train_k2])\n",
    "\n",
    "    Y_train = newtrain[\"Survived\"]\n",
    "    Y_train_k1, Y_test_k, Y_train_k2 = np.split(Y_train, [int(0.2*i*len(Y_train)), int(((0.2*i) + 0.2)*len(Y_train))])\n",
    "    Y_train_k = pd.concat([Y_train_k1, Y_train_k2])\n",
    "\n",
    "    decision_tree = DecisionTreeClassifier()\n",
    "    decision_tree = decision_tree.fit(X_train_k, Y_train_k)\n",
    "    Y_pred_k = decision_tree.predict(X_test_k)\n",
    "\n",
    "    cor_count = 0\n",
    "    for i in range(len(Y_pred_k)):\n",
    "        if Y_pred_k[i] == Y_test_k.iloc[i]:\n",
    "            cor_count += 1\n",
    "\n",
    "    perc_correct.append(cor_count/len(Y_pred_k))\n",
    "    \n",
    "print(\"Average percentage correct decision tree: \", np.mean(perc_correct))\n",
    "    \n",
    "# acc_decision_tree = round(decision_tree.score(X_train, Y_test_k) * 100, 2)\n",
    "# print(acc_decision_tree)"
   ]
  },
  {
   "cell_type": "code",
   "execution_count": 113,
   "metadata": {},
   "outputs": [
    {
     "name": "stdout",
     "output_type": "stream",
     "text": [
      "Average percentage correct Bayes:  0.7900885066850796\n"
     ]
    }
   ],
   "source": [
    "perc_correct = []\n",
    "\n",
    "for i in range(5):\n",
    "    X_train = newtrain.drop([\"Survived\", \"PassengerId\"], axis=1)\n",
    "    X_train_k1, X_test_k, X_train_k2 = np.split(X_train, [int(0.2*i*len(Y_train)), int(((0.2*i) + 0.2)*len(Y_train))])\n",
    "    X_train_k = pd.concat([X_train_k1, X_train_k2])\n",
    "\n",
    "    Y_train = newtrain[\"Survived\"]\n",
    "    Y_train_k1, Y_test_k, Y_train_k2 = np.split(Y_train, [int(0.2*i*len(Y_train)), int(((0.2*i) + 0.2)*len(Y_train))])\n",
    "    Y_train_k = pd.concat([Y_train_k1, Y_train_k2])\n",
    "\n",
    "    gaussian = GaussianNB()\n",
    "    gaussian.fit(X_train_k, Y_train_k)\n",
    "    Y_pred_k = gaussian.predict(X_test_k).astype(int)\n",
    "\n",
    "    cor_count = 0\n",
    "    for i in range(len(Y_pred_k)):\n",
    "        if Y_pred_k[i] == Y_test_k.iloc[i]:\n",
    "            cor_count += 1\n",
    "\n",
    "    perc_correct.append(cor_count/len(Y_pred_k))\n",
    "    \n",
    "print(\"Average percentage correct Bayes: \", np.mean(perc_correct))"
   ]
  },
  {
   "cell_type": "code",
   "execution_count": 114,
   "metadata": {},
   "outputs": [
    {
     "name": "stdout",
     "output_type": "stream",
     "text": [
      "[1, 1, 1, 1, 1, 1, 1, 1, 1, 1, 1, 1, 1, 1, 0, 1, 1, 0, 0, 1, 1, 0, 1, 0, 0, 1, 1, 1, 1, 1, 1, 1, 1, 1, 1, 1, 0, 1, 0, 1, 0, 0, 1, 1, 1, 1, 1, 1, 1, 0, 1, 1, 1, 1, 1, 0, 1, 1, 1, 1, 1, 1, 1, 1, 1, 0, 1, 1, 1, 1, 1, 0, 1, 1, 0, 1, 1, 1, 0, 1, 1, 0, 1, 1, 1, 1, 1, 1, 1, 1, 1, 1, 1, 1, 1, 1, 1, 0, 1, 1, 0, 1, 1, 1, 1, 1, 1, 0, 1, 1, 1, 0, 1, 0, 0, 1, 1, 1, 1, 0, 1, 1, 1, 1, 1, 0, 1, 0, 1, 1, 1, 1, 0, 1, 1, 1, 1, 1, 1, 1, 0, 1, 1, 1, 1, 1, 0, 0, 1, 1, 1, 1, 1, 1, 1, 1, 1, 1, 1, 1, 1, 1, 1, 1, 1, 0, 1, 0, 1, 1, 1, 1, 1, 1, 1, 1, 1, 0, 1, 1, 0, 1, 1, 0, 1, 1, 1, 0, 1, 1, 1, 1, 1, 0, 1, 1, 1, 1, 1, 0, 1, 1, 1, 1, 0, 0, 1, 0, 1, 0, 1, 1, 1, 1, 1, 1, 1, 1, 1, 1, 0, 1, 1, 1, 0, 1, 0, 1, 1, 0, 1, 1, 1, 1, 1, 0, 1, 1, 1, 1, 0, 1, 1, 1, 1, 1, 0, 1, 0, 1, 1, 0, 1, 1, 0, 1, 1, 1, 1, 1, 1, 0, 1, 1, 0, 1, 1, 0, 1, 1, 1, 0, 1, 1, 1, 1, 0, 1, 1, 1, 1, 1, 1, 0, 1, 1, 0, 1, 0, 1, 1, 1, 1, 0, 1, 1, 1, 0, 0, 1, 1, 0, 1, 1, 1, 0, 1, 1, 1, 1, 1, 1, 0, 1, 1, 1, 1, 1, 1, 1, 1, 1, 1, 1, 1, 1, 1, 1, 1, 1, 1, 1, 1, 1, 1, 1, 1, 1, 0, 1, 0, 1, 1, 1, 1, 1, 1, 1, 0, 1, 1, 1, 1, 1, 1, 1, 1, 0, 1, 1, 1, 1, 0, 1, 1, 1, 1, 1, 1, 1, 0, 1, 1, 1, 0, 1, 1, 1, 1, 1, 1, 1, 1, 1, 1, 1, 1, 1, 1, 1, 0, 0, 1, 1, 1, 1, 0, 1, 1, 1, 0, 1, 0, 1, 0, 1, 1, 0, 1, 0, 1, 1, 1, 1, 0, 0, 1, 1, 1, 0, 1, 1, 1, 0, 1, 1, 1, 1, 1, 0, 0, 1, 1, 1, 1, 1, 0, 1, 1, 1, 1, 1, 1, 1, 0, 0, 1, 0, 1, 0, 1, 1, 1, 0, 1, 0, 1, 1, 1, 1, 0, 1, 1, 1, 1, 1, 1, 1, 1, 1, 1, 1, 1, 1, 0, 1, 1, 1, 1, 1, 1, 1, 1, 1, 0, 0, 1, 1, 1, 0, 1, 1, 1, 1, 1, 1, 1, 1, 0, 1, 1, 0, 0, 0, 1, 1, 1, 0, 1, 0, 0, 1, 0, 1, 1, 1, 1, 1, 1, 1, 1, 1, 1, 1, 1, 1, 1, 1, 1, 1, 1, 1, 1, 1, 0, 1, 1, 1, 1, 1, 1, 0, 0, 0, 1, 1, 1, 0, 1, 0, 0, 1, 1, 0, 1, 1, 1, 1, 1, 1, 1, 1, 1, 1, 0, 1, 1, 0, 1, 0, 0, 1, 0, 1, 1, 1, 1, 1, 0, 0, 1, 1, 1, 1, 1, 1, 1, 0, 1, 1, 1, 1, 1, 0, 1, 1, 1, 1, 1, 0, 1, 1, 1, 1, 0, 1, 1, 0, 1, 1, 0, 1, 1, 1, 1, 1, 1, 0, 1, 1, 1, 0, 0, 1, 1, 1, 1, 1, 1, 1, 0, 1, 0, 1, 0, 1, 1, 1, 0, 1, 1, 1, 0, 0, 1, 0, 1, 0, 1, 1, 1, 1, 1, 1, 0, 1, 1, 0, 1, 1, 0, 1, 1, 1, 0, 1, 1, 1, 1, 1, 1, 1, 1, 0, 1, 1, 1, 1, 0, 0, 0, 0, 1, 1, 1, 1, 1, 1, 1, 1, 0, 1, 0, 1, 1, 1, 1, 1, 1, 1, 1, 0, 0, 1, 1, 1, 1, 0, 1, 0, 1, 1, 0, 1, 1, 1, 1, 1, 1, 1, 1, 1, 1, 1, 0, 1, 1, 1, 1, 0, 1, 1, 1, 1, 1, 1, 0, 0, 1, 1, 0, 1, 1, 1, 0, 1, 1, 1, 1, 1, 1, 0, 1, 1, 1, 0, 1, 1, 1, 1, 1, 1, 0, 1, 1, 1, 1, 0, 1, 1, 1, 1, 0, 1, 1, 1, 1, 1, 1, 1, 1, 1, 1, 1, 1, 1, 1, 1, 0, 1, 1, 1, 0, 1, 1, 1, 1, 1, 1, 0, 1, 1, 0, 0, 0, 1, 1, 0, 1, 1, 1, 1, 1, 0, 1, 1, 0, 1, 1, 1, 1, 0, 1, 1, 1, 1, 1, 0, 0, 1, 1, 0, 1, 1, 1, 1, 1, 1, 0, 0, 1, 1, 1, 1, 1, 1, 1, 1, 1, 1, 1, 1, 0, 1, 0, 1, 1, 0, 1, 1, 1, 1, 1, 0, 1, 1, 1, 1, 1, 0, 1, 1, 1, 1, 1, 1, 1, 1, 1, 1, 1, 1, 0, 1, 1, 0, 1, 1, 0, 0, 1]\n"
     ]
    }
   ],
   "source": [
    "def gender_prediction(df):\n",
    "    \n",
    "    # predict that females survive, males don't\n",
    "    df[\"Pred\"] = np.where(df[\"Sex\"] == 1, 1, 0)\n",
    "\n",
    "# check if prediction is correct (in training data)\n",
    "def check_prediction(df):\n",
    "    df[\"Correct\"] = np.where(df.Pred == df.Survived, 1, 0)\n",
    "    return df[\"Correct\"].sum()\n",
    "\n",
    "gender_prediction(newtrain)\n",
    "check_prediction(newtrain)\n",
    "\n",
    "gender_cor = list(newtrain[\"Correct\"])\n",
    "print(gender_cor)\n",
    "# print(newtrain[\"Correct\"])"
   ]
  },
  {
   "cell_type": "code",
   "execution_count": 115,
   "metadata": {},
   "outputs": [
    {
     "name": "stdout",
     "output_type": "stream",
     "text": [
      "0.7946127946127947\n"
     ]
    }
   ],
   "source": [
    "Y_pred = gaussian.predict(X_train).astype(int)\n",
    "# acc_gaussian = round(gaussian.score(X_train, Y_train) * 100, 2)\n",
    "# print(Y_pred)\n",
    "\n",
    "newtrain[\"Pred\"] = Y_pred\n",
    "    \n",
    "print(check_prediction(newtrain)/len(newtrain))\n",
    "\n",
    "gaussian_cor = list(newtrain[\"Correct\"])\n",
    "# print(gaussian_cor)"
   ]
  },
  {
   "cell_type": "code",
   "execution_count": 116,
   "metadata": {},
   "outputs": [
    {
     "name": "stdout",
     "output_type": "stream",
     "text": [
      "793\n",
      "[1, 1, 0, 1, 1, 1, 1, 1, 1, 1, 1, 1, 1, 1, 1, 1, 1, 1, 1, 1, 1, 1, 1, 1, 1, 0, 1, 1, 1, 1, 1, 1, 1, 1, 1, 1, 0, 1, 1, 0, 1, 1, 1, 1, 1, 1, 1, 1, 1, 1, 1, 1, 1, 1, 1, 0, 1, 1, 1, 1, 1, 1, 1, 1, 1, 1, 1, 1, 1, 1, 1, 1, 1, 1, 1, 1, 1, 1, 1, 1, 1, 0, 1, 1, 1, 1, 1, 1, 1, 1, 1, 1, 1, 1, 1, 1, 1, 0, 1, 1, 1, 1, 1, 1, 1, 1, 1, 0, 1, 1, 1, 1, 1, 1, 1, 1, 1, 1, 1, 1, 1, 1, 1, 1, 1, 1, 1, 0, 1, 1, 1, 1, 1, 1, 1, 1, 1, 1, 1, 1, 1, 1, 1, 1, 1, 1, 0, 1, 1, 1, 1, 1, 1, 1, 1, 1, 1, 1, 1, 1, 1, 1, 1, 1, 1, 1, 1, 1, 1, 0, 1, 1, 1, 1, 1, 1, 1, 1, 1, 1, 1, 1, 1, 1, 1, 1, 1, 0, 1, 1, 1, 1, 1, 1, 1, 1, 1, 1, 1, 1, 1, 1, 1, 1, 0, 1, 1, 1, 1, 0, 1, 1, 1, 1, 1, 1, 0, 1, 1, 1, 0, 1, 1, 1, 0, 1, 0, 1, 1, 1, 1, 1, 1, 0, 1, 1, 1, 1, 1, 1, 1, 1, 1, 1, 1, 1, 0, 1, 0, 1, 1, 1, 1, 1, 1, 1, 1, 1, 1, 1, 1, 1, 1, 1, 0, 1, 1, 0, 1, 1, 1, 0, 1, 1, 1, 1, 1, 1, 1, 1, 1, 1, 1, 0, 1, 1, 0, 1, 0, 0, 1, 1, 1, 1, 1, 1, 1, 1, 0, 1, 1, 1, 1, 1, 1, 1, 1, 1, 1, 1, 1, 1, 1, 1, 1, 0, 1, 1, 1, 1, 1, 1, 1, 1, 1, 1, 1, 1, 1, 1, 1, 1, 1, 1, 1, 1, 1, 1, 0, 1, 1, 1, 1, 1, 1, 1, 1, 1, 1, 1, 1, 1, 1, 1, 1, 1, 1, 0, 1, 1, 1, 1, 1, 1, 1, 1, 1, 1, 1, 1, 1, 1, 1, 1, 1, 1, 1, 1, 1, 1, 1, 1, 1, 1, 1, 1, 1, 1, 1, 1, 1, 0, 1, 1, 1, 1, 1, 1, 1, 1, 0, 1, 1, 1, 1, 1, 1, 1, 1, 1, 1, 1, 1, 1, 0, 1, 0, 1, 1, 1, 1, 1, 1, 0, 1, 1, 1, 1, 1, 1, 1, 1, 1, 1, 1, 1, 1, 1, 1, 1, 1, 1, 1, 1, 0, 1, 1, 1, 1, 0, 1, 1, 1, 0, 1, 0, 1, 1, 1, 1, 0, 1, 1, 1, 1, 1, 1, 1, 1, 1, 1, 1, 1, 1, 1, 1, 1, 1, 1, 1, 1, 1, 1, 1, 1, 1, 1, 1, 1, 1, 1, 1, 1, 1, 1, 1, 1, 1, 1, 1, 1, 1, 0, 1, 1, 1, 1, 0, 1, 1, 1, 1, 0, 1, 1, 1, 1, 1, 1, 1, 1, 1, 1, 1, 1, 1, 1, 1, 1, 1, 1, 1, 1, 1, 1, 1, 1, 1, 1, 1, 1, 1, 1, 0, 1, 1, 1, 0, 1, 1, 1, 1, 1, 0, 1, 1, 1, 1, 1, 0, 1, 1, 1, 1, 1, 1, 1, 1, 1, 0, 0, 1, 0, 1, 1, 1, 1, 1, 1, 0, 1, 1, 1, 1, 1, 1, 1, 1, 1, 1, 1, 1, 1, 1, 1, 1, 1, 1, 1, 1, 1, 1, 1, 1, 1, 1, 1, 1, 1, 1, 1, 1, 1, 1, 1, 1, 1, 1, 1, 1, 1, 0, 1, 1, 1, 1, 1, 1, 1, 1, 0, 1, 1, 1, 1, 1, 1, 1, 1, 1, 1, 1, 1, 1, 1, 1, 1, 1, 1, 1, 1, 1, 1, 1, 0, 1, 1, 1, 1, 1, 1, 1, 1, 1, 1, 1, 1, 1, 1, 1, 1, 1, 1, 0, 1, 1, 1, 1, 1, 1, 0, 1, 1, 1, 1, 1, 1, 1, 1, 1, 0, 1, 1, 1, 1, 1, 1, 1, 1, 1, 1, 1, 1, 1, 1, 1, 1, 0, 1, 1, 1, 1, 0, 1, 1, 1, 1, 1, 1, 1, 1, 1, 1, 1, 0, 1, 1, 1, 1, 1, 1, 1, 1, 1, 1, 1, 1, 1, 1, 1, 0, 1, 1, 1, 0, 0, 1, 1, 1, 0, 1, 1, 1, 1, 1, 1, 1, 1, 1, 0, 1, 1, 0, 0, 1, 1, 0, 1, 1, 1, 1, 1, 0, 1, 1, 1, 0, 1, 1, 1, 0, 1, 0, 1, 1, 1, 0, 1, 1, 1, 1, 1, 1, 1, 1, 1, 0, 0, 1, 0, 1, 0, 1, 0, 0, 1, 1, 1, 1, 1, 1, 1, 1, 1, 1, 1, 1, 0, 1, 1, 1, 0, 1, 0, 1, 1, 0, 1, 0, 1, 0, 1, 1, 1, 1, 1, 1, 1, 1, 0, 1, 1, 0, 1, 1, 1, 1, 1, 1, 1, 0, 1, 0, 1, 0, 1, 1, 0, 1, 1, 1, 1, 1, 1, 1, 1, 0, 1, 1, 1, 1, 1, 1, 1, 1, 0, 1, 1, 1, 1, 1, 1, 0, 1, 1, 1, 1, 1, 0, 1, 0]\n"
     ]
    }
   ],
   "source": [
    "Y_pred = decision_tree.predict(X_train).astype(int)\n",
    "# acc_gaussian = round(gaussian.score(X_train, Y_train) * 100, 2)\n",
    "# print(Y_pred)\n",
    "\n",
    "newtrain[\"Pred\"] = Y_pred\n",
    "    \n",
    "print(check_prediction(newtrain))\n",
    "\n",
    "tree_cor = list(newtrain[\"Correct\"])\n",
    "print(tree_cor)"
   ]
  },
  {
   "cell_type": "code",
   "execution_count": 117,
   "metadata": {},
   "outputs": [
    {
     "data": {
      "text/plain": [
       "Ttest_indResult(statistic=-0.4073975146630254, pvalue=0.6837650402476824)"
      ]
     },
     "execution_count": 117,
     "metadata": {},
     "output_type": "execute_result"
    }
   ],
   "source": [
    "scipy.stats.ttest_ind(gender_cor, gaussian_cor)"
   ]
  },
  {
   "cell_type": "code",
   "execution_count": 118,
   "metadata": {},
   "outputs": [
    {
     "data": {
      "text/plain": [
       "Ttest_indResult(statistic=-5.976410531062318, pvalue=2.7491239747759546e-09)"
      ]
     },
     "execution_count": 118,
     "metadata": {},
     "output_type": "execute_result"
    }
   ],
   "source": [
    "scipy.stats.ttest_ind(gender_cor, tree_cor)"
   ]
  }
 ],
 "metadata": {
  "kernelspec": {
   "display_name": "Python 3",
   "language": "python",
   "name": "python3"
  },
  "language_info": {
   "codemirror_mode": {
    "name": "ipython",
    "version": 3
   },
   "file_extension": ".py",
   "mimetype": "text/x-python",
   "name": "python",
   "nbconvert_exporter": "python",
   "pygments_lexer": "ipython3",
   "version": "3.7.1"
  }
 },
 "nbformat": 4,
 "nbformat_minor": 2
}
