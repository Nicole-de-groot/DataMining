{
 "cells": [
  {
   "cell_type": "code",
   "execution_count": 4,
   "metadata": {},
   "outputs": [],
   "source": [
    "import pandas as pd\n",
    "import seaborn as sns\n",
    "import matplotlib.pyplot as plt\n",
    "import numpy as np\n",
    "from sklearn import tree\n",
    "import random\n",
    "import math"
   ]
  },
  {
   "cell_type": "code",
   "execution_count": 78,
   "metadata": {},
   "outputs": [],
   "source": [
    "hoteltest = pd.read_csv('hoteltest_testing_set.csv')\n",
    "hoteltrain = pd.read_csv('hoteltest_testing_set.csv')"
   ]
  },
  {
   "cell_type": "code",
   "execution_count": 79,
   "metadata": {},
   "outputs": [],
   "source": [
    "hoteltest.drop(hoteltest.select_dtypes(['object']), inplace=True, axis=1)\n",
    "hoteltrain.drop(hoteltrain.select_dtypes(['object']), inplace=True, axis=1)"
   ]
  },
  {
   "cell_type": "code",
   "execution_count": 80,
   "metadata": {},
   "outputs": [],
   "source": [
    "hoteltest_prop_id = hoteltest[['prop_id']]\n",
    "hoteltest_srch_id = hoteltest[['srch_id']]\n",
    "hoteltrain_prop_id = hoteltrain[['prop_id']]\n",
    "hoteltrain_srch_id = hoteltrain[['srch_id']]\n",
    "hoteltest = hoteltest.drop(columns=['prop_id', 'srch_id'])\n",
    "hoteltrain = hoteltrain.drop(columns=['prop_id', 'srch_id'])"
   ]
  },
  {
   "cell_type": "code",
   "execution_count": 81,
   "metadata": {},
   "outputs": [],
   "source": [
    "properties = list(set().union(list(hoteltest.columns),list(hoteltrain.columns)))"
   ]
  },
  {
   "cell_type": "code",
   "execution_count": 83,
   "metadata": {},
   "outputs": [],
   "source": [
    "def get_letor_row(df, prop_id, srch_id, entry):\n",
    "    target = prop_id.iloc[entry][0]\n",
    "    qid = \"qid:\" + str(srch_id.iloc[entry][0])\n",
    "    features = []\n",
    "    for i, feature in enumerate(properties):\n",
    "        value = df.iloc[entry][feature]\n",
    "        features.append(str(i + 1) + \":\" + str(value))\n",
    "    features = \" \".join(features)\n",
    "    return \" \".join([str(target),qid,features])"
   ]
  },
  {
   "cell_type": "code",
   "execution_count": 84,
   "metadata": {},
   "outputs": [],
   "source": [
    "file = open(\"../LambdaMart/test.txt\", \"w\")\n",
    "for entry in range(len(hoteltest)):\n",
    "    print(get_letor_row(hoteltest, hoteltest_prop_id, hoteltest_srch_id, entry), file=file)\n",
    "file.close()"
   ]
  },
  {
   "cell_type": "code",
   "execution_count": 85,
   "metadata": {},
   "outputs": [],
   "source": [
    "file = open(\"../LambdaMart/train.txt\", \"w\")\n",
    "for entry in range(len(hoteltrain)):\n",
    "    print(get_letor_row(hoteltrain, hoteltrain_prop_id, hoteltrain_srch_id, entry), file=file)\n",
    "file.close()"
   ]
  },
  {
   "cell_type": "code",
   "execution_count": null,
   "metadata": {},
   "outputs": [],
   "source": []
  }
 ],
 "metadata": {
  "kernelspec": {
   "display_name": "Python 3",
   "language": "python",
   "name": "python3"
  },
  "language_info": {
   "codemirror_mode": {
    "name": "ipython",
    "version": 3
   },
   "file_extension": ".py",
   "mimetype": "text/x-python",
   "name": "python",
   "nbconvert_exporter": "python",
   "pygments_lexer": "ipython3",
   "version": "3.7.2"
  }
 },
 "nbformat": 4,
 "nbformat_minor": 2
}
