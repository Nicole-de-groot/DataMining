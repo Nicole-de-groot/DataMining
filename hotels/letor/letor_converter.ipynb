{
 "cells": [
  {
   "cell_type": "code",
   "execution_count": null,
   "metadata": {},
   "outputs": [],
   "source": [
    "import pandas as pd\n",
    "import os"
   ]
  },
  {
   "cell_type": "code",
   "execution_count": null,
   "metadata": {},
   "outputs": [],
   "source": [
    "def getheaders():\n",
    "    test_headers = list(pd.read_csv(test, nrows = 0).columns)\n",
    "    train_headers = list(pd.read_csv(train, nrows = 0).columns)\n",
    "    if os.path.isfile('properties.txt'):\n",
    "        with open('properties.txt', \"r\") as f:\n",
    "            properties = f.read().splitlines()\n",
    "        check = [item for item in list(set().union(test_headers,train_headers)) if item not in properties]\n",
    "        if len(check) != 0:\n",
    "            raise Exception(\"lists are not the same\")\n",
    "    else:\n",
    "        properties = list(set().union(test_headers,train_headers))\n",
    "        file = open('properties.txt', \"w\")\n",
    "        for item in properties:\n",
    "            print(item, file = file)\n",
    "        file.close()\n",
    "    return properties"
   ]
  },
  {
   "cell_type": "code",
   "execution_count": null,
   "metadata": {},
   "outputs": [],
   "source": [
    "def get_letor_row(df, prop_id, srch_id, entry):\n",
    "    target = prop_id.iloc[entry][0]\n",
    "    qid = \"qid:\" + str(srch_id.iloc[entry][0])\n",
    "    features = []\n",
    "    for i, feature in enumerate(properties):\n",
    "        try: \n",
    "            value = df.loc[entry, feature]\n",
    "        except:\n",
    "            pass\n",
    "        else:\n",
    "            features.append(str(i + 1) + \":\" + str(value))\n",
    "    features = \" \".join(features)\n",
    "    return \" \".join([str(target),qid,features])"
   ]
  },
  {
   "cell_type": "code",
   "execution_count": null,
   "metadata": {},
   "outputs": [],
   "source": [
    "def open_set(hotel_set_file):\n",
    "    hotel_set = pd.read_csv(hotel_set_file)\n",
    "    hotel_set.drop(hotel_set.select_dtypes(['object']), inplace=True, axis=1)\n",
    "    hotel_set_prop_id = hotel_set[['prop_id']]\n",
    "    hotel_set_srch_id = hotel_set[['srch_id']]\n",
    "    hotel_set.drop(hotel_set.select_dtypes(['object']), inplace=True, axis=1)\n",
    "    hotel_set_type = hotel_set_file.split('_')[1][:-3]\n",
    "    file = open(\"../LambdaMart/%s.txt\" % hotel_set_type, \"w\")\n",
    "    for entry in range(len(hotel_set)):\n",
    "        print(get_letor_row(hotel_set, hotel_set_prop_id, hotel_set_srch_id, entry), file=file)\n",
    "    file.close()"
   ]
  },
  {
   "cell_type": "code",
   "execution_count": null,
   "metadata": {},
   "outputs": [],
   "source": [
    "test = 'hoteltest_testing_set.csv'\n",
    "train = 'hoteltest_training_set.csv'"
   ]
  },
  {
   "cell_type": "code",
   "execution_count": null,
   "metadata": {},
   "outputs": [],
   "source": [
    "properties = getheaders()"
   ]
  },
  {
   "cell_type": "raw",
   "metadata": {},
   "source": [
    "open_set(test)"
   ]
  },
  {
   "cell_type": "raw",
   "metadata": {},
   "source": [
    "open_set(train)"
   ]
  }
 ],
 "metadata": {
  "kernelspec": {
   "display_name": "Python 3",
   "language": "python",
   "name": "python3"
  },
  "language_info": {
   "codemirror_mode": {
    "name": "ipython",
    "version": 3
   },
   "file_extension": ".py",
   "mimetype": "text/x-python",
   "name": "python",
   "nbconvert_exporter": "python",
   "pygments_lexer": "ipython3",
   "version": "3.7.2"
  }
 },
 "nbformat": 4,
 "nbformat_minor": 2
}
