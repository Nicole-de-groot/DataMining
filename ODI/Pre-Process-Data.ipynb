{
 "cells": [
  {
   "cell_type": "code",
   "execution_count": 1,
   "metadata": {},
   "outputs": [],
   "source": [
    "import process_functions as pf"
   ]
  },
  {
   "cell_type": "code",
   "execution_count": 2,
   "metadata": {},
   "outputs": [],
   "source": [
    "import pandas as pd\n",
    "import numpy as np\n",
    "import re\n",
    "import datetime"
   ]
  },
  {
   "cell_type": "markdown",
   "metadata": {},
   "source": [
    "# 1. Read Data"
   ]
  },
  {
   "cell_type": "code",
   "execution_count": 3,
   "metadata": {},
   "outputs": [],
   "source": [
    "input_data = pd.read_csv('ODI-2019-csv.csv', sep=';')"
   ]
  },
  {
   "cell_type": "raw",
   "metadata": {},
   "source": [
    "input_data"
   ]
  },
  {
   "cell_type": "markdown",
   "metadata": {},
   "source": [
    "# 2. Pre-Process Data"
   ]
  },
  {
   "cell_type": "code",
   "execution_count": 4,
   "metadata": {},
   "outputs": [],
   "source": [
    "# Copy data dataframe to adapt\n",
    "data_processed = input_data[input_data.columns[[0,2,3,4,5,6,7,14,15]]].applymap(str.lower)"
   ]
  },
  {
   "cell_type": "raw",
   "metadata": {},
   "source": [
    "data_processed"
   ]
  },
  {
   "cell_type": "markdown",
   "metadata": {},
   "source": [
    "## 2.1 Normalize Programmes"
   ]
  },
  {
   "cell_type": "code",
   "execution_count": 5,
   "metadata": {},
   "outputs": [],
   "source": [
    "data_programme = input_data[input_data.columns[1]].str.lower().str.strip()"
   ]
  },
  {
   "cell_type": "code",
   "execution_count": 6,
   "metadata": {},
   "outputs": [],
   "source": [
    "for key in pf.replacement:\n",
    "    data_programme = data_programme.replace(to_replace = pf.replacement[key], value = key)"
   ]
  },
  {
   "cell_type": "code",
   "execution_count": 7,
   "metadata": {},
   "outputs": [],
   "source": [
    "data_processed = pd.concat([data_processed,data_programme],axis=1)"
   ]
  },
  {
   "cell_type": "markdown",
   "metadata": {},
   "source": [
    "## 2.2 Normalize Birthdates"
   ]
  },
  {
   "cell_type": "code",
   "execution_count": 8,
   "metadata": {},
   "outputs": [],
   "source": [
    "data_birthdays = input_data[input_data.columns[8]].str.lower().str.strip()"
   ]
  },
  {
   "cell_type": "code",
   "execution_count": 9,
   "metadata": {},
   "outputs": [],
   "source": [
    "dates = []\n",
    "for date in data_birthdays:    \n",
    "    dates.append(pf.splitbirthday(date))"
   ]
  },
  {
   "cell_type": "code",
   "execution_count": 11,
   "metadata": {},
   "outputs": [],
   "source": [
    "data_birthdays = pd.DataFrame(dates,columns=['Birth Day','Birth Month','Birth Year']).replace(r'', None, regex=True)\n",
    "\n",
    "for column in data_birthdays.columns:\n",
    "    data_birthdays[column] = pd.to_numeric(data_birthdays[column])"
   ]
  },
  {
   "cell_type": "code",
   "execution_count": 12,
   "metadata": {},
   "outputs": [],
   "source": [
    "data_processed = pd.concat([data_processed,data_birthdays],axis=1)"
   ]
  },
  {
   "cell_type": "markdown",
   "metadata": {},
   "source": [
    "## 2.3 Normalize Neighbors, DM Competition, Random Number, Stress Level"
   ]
  },
  {
   "cell_type": "code",
   "execution_count": 13,
   "metadata": {},
   "outputs": [],
   "source": [
    "data_neighbors =  []\n",
    "data_competition = []\n",
    "data_random = []\n",
    "data_stress = []\n",
    "\n",
    "for index, row in input_data.iterrows():\n",
    "    data_neighbors.append(pf.removenonnum(row[9], True))\n",
    "    data_competition.append(pf.removenonnum(row[11]))\n",
    "    data_random.append(pf.removenonnum(row[12]))\n",
    "    data_stress.append(pf.removenonnum(str(row[16])))\n",
    "\n",
    "data_neighbors = [(x if x else None) for x in data_neighbors]\n",
    "data_competition = [(x if x else None) for x in data_competition]\n",
    "data_random = [(x if x else None) for x in data_random]\n",
    "data_stress = [(x if x else None) for x in data_stress]\n",
    "\n",
    "data_numbers = pd.DataFrame({'Neighbors':data_neighbors, 'Competition':data_competition, 'Random':data_random, 'Stress':data_stress})\n",
    "\n",
    "for column in data_numbers.columns:\n",
    "    data_numbers[column] = pd.to_numeric(data_numbers[column])"
   ]
  },
  {
   "cell_type": "code",
   "execution_count": 14,
   "metadata": {},
   "outputs": [],
   "source": [
    "data_processed = pd.concat([data_processed,data_numbers],axis=1)"
   ]
  },
  {
   "cell_type": "markdown",
   "metadata": {},
   "source": [
    "## 2.4 Normalize Bedtime"
   ]
  },
  {
   "cell_type": "code",
   "execution_count": 23,
   "metadata": {},
   "outputs": [],
   "source": [
    "data_bedtime = input_data[input_data.columns[13]].str.lower().str.strip()"
   ]
  },
  {
   "cell_type": "code",
   "execution_count": 24,
   "metadata": {},
   "outputs": [],
   "source": [
    "for index, time in data_bedtime.iteritems():\n",
    "    if \"am\" in time:\n",
    "        time = pf.fixtime(time, \"am\")\n",
    "    elif \"pm\" in time:\n",
    "        time = pf.fixtime(time, \"pm\")\n",
    "    else:\n",
    "        time = pf.fixtime(time)\n",
    "    try:\n",
    "        time.split(\":\")[0]\n",
    "    except:\n",
    "        data_bedtime.iloc[index] = None\n",
    "    else:\n",
    "        data_bedtime.iloc[index] = time.split(\":\")[0]\n",
    "    #data_bedtime.iloc[index] = time"
   ]
  },
  {
   "cell_type": "code",
   "execution_count": 26,
   "metadata": {},
   "outputs": [],
   "source": [
    "data_bedtime = pd.to_numeric(data_bedtime)"
   ]
  },
  {
   "cell_type": "code",
   "execution_count": 27,
   "metadata": {},
   "outputs": [],
   "source": [
    "data_processed = pd.concat([data_processed,data_bedtime],axis=1)"
   ]
  },
  {
   "cell_type": "markdown",
   "metadata": {},
   "source": [
    "# 3. Save Pre-Processed Data"
   ]
  },
  {
   "cell_type": "raw",
   "metadata": {},
   "source": [
    "import matplotlib.pyplot as plt\n",
    "\n",
    "plt.matshow(data_processed.corr)\n",
    "plt.show()"
   ]
  },
  {
   "cell_type": "code",
   "execution_count": 28,
   "metadata": {},
   "outputs": [
    {
     "data": {
      "text/plain": [
       "Timestamp                                             object\n",
       "Have you taken a course on machine learning?          object\n",
       "Have you taken a course on information retrieval?     object\n",
       "Have you taken a course on statistics?                object\n",
       "Have you taken a course on databases?                 object\n",
       "What is your gender?                                  object\n",
       "Chocolate makes you.....                              object\n",
       "What makes a good day for you (1)?                    object\n",
       "What makes a good day for you (2)?                    object\n",
       "What programme are you in?                            object\n",
       "Birth Day                                            float64\n",
       "Birth Month                                          float64\n",
       "Birth Year                                           float64\n",
       "Neighbors                                            float64\n",
       "Competition                                          float64\n",
       "Random                                               float64\n",
       "Stress                                               float64\n",
       "Time you went to be Yesterday                        float64\n",
       "dtype: object"
      ]
     },
     "execution_count": 28,
     "metadata": {},
     "output_type": "execute_result"
    }
   ],
   "source": [
    "data_processed.dtypes"
   ]
  },
  {
   "cell_type": "code",
   "execution_count": 29,
   "metadata": {},
   "outputs": [],
   "source": [
    "data_processed.to_csv('ODI-2019-processed.csv', header=True, index=False)"
   ]
  }
 ],
 "metadata": {
  "kernelspec": {
   "display_name": "Python 3",
   "language": "python",
   "name": "python3"
  },
  "language_info": {
   "codemirror_mode": {
    "name": "ipython",
    "version": 3
   },
   "file_extension": ".py",
   "mimetype": "text/x-python",
   "name": "python",
   "nbconvert_exporter": "python",
   "pygments_lexer": "ipython3",
   "version": "3.6.7"
  }
 },
 "nbformat": 4,
 "nbformat_minor": 2
}
