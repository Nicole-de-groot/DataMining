{
 "cells": [
  {
   "cell_type": "code",
   "execution_count": null,
   "metadata": {},
   "outputs": [],
   "source": [
    "import pandas as pd\n",
    "import numpy as np\n",
    "import matplotlib.pyplot as plt\n",
    "import seaborn as sns"
   ]
  },
  {
   "cell_type": "code",
   "execution_count": null,
   "metadata": {},
   "outputs": [],
   "source": [
    "data = pd.read_csv('ODI-2019-processed.csv')"
   ]
  },
  {
   "cell_type": "code",
   "execution_count": null,
   "metadata": {},
   "outputs": [],
   "source": [
    "mapping = {None:['unknown'], int(1):['yes','mu','ja','male','1'], int(0):['no','sigma','nee','female', '0']}\n",
    "for key in mapping:\n",
    "    data[data.columns[[1,2,3,4]]] = data[data.columns[[1,2,3,4]]].replace(to_replace = mapping[key], value = key)"
   ]
  },
  {
   "cell_type": "code",
   "execution_count": null,
   "metadata": {},
   "outputs": [],
   "source": [
    "test_data = data[data.columns[[1,2,3,4,9]]].copy()\n",
    "test_data[test_data.columns[1]] = test_data[test_data.columns[1]].astype(str).astype(int)"
   ]
  },
  {
   "cell_type": "code",
   "execution_count": null,
   "metadata": {},
   "outputs": [],
   "source": [
    "old_labels = list(test_data.columns.values)\n",
    "new_labels = ['ML', 'IR', 'ST', 'DB', 'Programme']\n",
    "mapping = dict( zip(old_labels,new_labels) )\n",
    "test_data = test_data.rename(mapping, axis='columns')"
   ]
  },
  {
   "cell_type": "code",
   "execution_count": null,
   "metadata": {},
   "outputs": [],
   "source": [
    "labels = test_data['Programme'].unique().tolist()\n",
    "mapping = dict( zip(labels,range(len(labels))) )\n",
    "test_data.replace({'Programme': mapping},inplace=True)"
   ]
  },
  {
   "cell_type": "markdown",
   "metadata": {},
   "source": [
    "# Pairplots"
   ]
  },
  {
   "cell_type": "code",
   "execution_count": null,
   "metadata": {},
   "outputs": [],
   "source": [
    "sns.pairplot(test_data)"
   ]
  },
  {
   "cell_type": "markdown",
   "metadata": {},
   "source": [
    "# Correlation"
   ]
  },
  {
   "cell_type": "code",
   "execution_count": null,
   "metadata": {},
   "outputs": [],
   "source": [
    "corr = test_data.corr()\n",
    "corr"
   ]
  },
  {
   "cell_type": "code",
   "execution_count": null,
   "metadata": {},
   "outputs": [],
   "source": [
    "mask = np.zeros_like(corr, dtype=np.bool)\n",
    "mask[np.triu_indices_from(mask)] = True\n",
    "\n",
    "f, ax = plt.subplots(figsize=(11, 9))\n",
    "\n",
    "cmap = sns.diverging_palette(220, 10, as_cmap=True)\n",
    "\n",
    "sns.heatmap(corr, mask=mask, cmap=cmap, vmax=.3, center=0,\n",
    "            square=True, linewidths=.5, cbar_kws={\"shrink\": .5})"
   ]
  },
  {
   "cell_type": "markdown",
   "metadata": {},
   "source": [
    "# Linear Regression"
   ]
  },
  {
   "cell_type": "code",
   "execution_count": null,
   "metadata": {},
   "outputs": [],
   "source": [
    "from sklearn.linear_model import LinearRegression\n",
    "def regression(X_train, X_test, y_train, y_test):\n",
    "    lm = LinearRegression()\n",
    "    lm.fit(X_train,y_train)\n",
    "\n",
    "    X_test_data = X_test.copy()\n",
    "\n",
    "    X_test_data['predictions'] = lm.predict(X_test).round()\n",
    "\n",
    "    X_test_data['predictions'] = X_test_data['predictions'].astype(int)\n",
    "    \n",
    "    return X_test_data"
   ]
  },
  {
   "cell_type": "code",
   "execution_count": null,
   "metadata": {},
   "outputs": [],
   "source": [
    "def testregression(X_test_data, test_data, prediction_column):\n",
    "    count = 0\n",
    "    for x in range(len(test_data)):\n",
    "        try:\n",
    "            if X_test_data.loc[x]['predictions']==test_data.loc[x][prediction_column]:\n",
    "                count += 1\n",
    "        except:\n",
    "            pass\n",
    "\n",
    "    return count"
   ]
  },
  {
   "cell_type": "code",
   "execution_count": null,
   "metadata": {},
   "outputs": [],
   "source": [
    "def kfoldlearning(X,y,prediction_column, folds = 2):\n",
    "    # scikit-learn k-fold cross-validation\n",
    "    from sklearn.model_selection import KFold\n",
    "    performances = []\n",
    "\n",
    "    # prepare cross validation\n",
    "    kfold = KFold(folds, True)\n",
    "    # enumerate splits\n",
    "    for train_index, test_index in kfold.split(X, y):\n",
    "        #print(\"TRAIN:\", train_index, \"TEST:\", test_index)\n",
    "        X_train, X_test = X.iloc[train_index], X.iloc[test_index]\n",
    "        y_train, y_test = y[train_index], y[test_index]\n",
    "\n",
    "        X_test_data = regression(X_train, X_test, y_train, y_test)\n",
    "        count = testregression(X_test_data, test_data, prediction_column)\n",
    "        print(str(count) + \" correct out of \" + str(len(X_test_data)))\n",
    "        performances.append(count/len(X_test_data))\n",
    "\n",
    "    print(\"\\n\" + str((np.mean(performances)*100).round(1)) + \"% accuracy\")"
   ]
  },
  {
   "cell_type": "markdown",
   "metadata": {},
   "source": [
    "## Linear Regression Programmes"
   ]
  },
  {
   "cell_type": "code",
   "execution_count": null,
   "metadata": {},
   "outputs": [],
   "source": [
    "X = test_data[test_data.columns[[0,1,2,3]]]\n",
    "y = test_data[test_data.columns[4]]"
   ]
  },
  {
   "cell_type": "code",
   "execution_count": null,
   "metadata": {},
   "outputs": [],
   "source": [
    "from sklearn.model_selection import train_test_split\n",
    "\n",
    "X_train, X_test, y_train, y_test = train_test_split(X, y, test_size=0.4, random_state=101)"
   ]
  },
  {
   "cell_type": "code",
   "execution_count": null,
   "metadata": {},
   "outputs": [],
   "source": [
    "X_test_data = regression(X_train, X_test, y_train, y_test)\n",
    "count = testregression(X_test_data, test_data, 'Programme')\n",
    "str(count) + \" correct out of \" + str(len(X_test_data))"
   ]
  },
  {
   "cell_type": "markdown",
   "metadata": {},
   "source": [
    "## K-fold Programmes"
   ]
  },
  {
   "cell_type": "code",
   "execution_count": null,
   "metadata": {},
   "outputs": [],
   "source": [
    "# Predict programme based on ML, IR, ST and DB\n",
    "X = test_data[test_data.columns[[0,1,2,3]]]\n",
    "y = test_data[test_data.columns[4]]\n",
    "folds = 7\n",
    "kfoldlearning(X,y,'Programme',folds)"
   ]
  },
  {
   "cell_type": "markdown",
   "metadata": {},
   "source": [
    "## K-fold Machine Learning"
   ]
  },
  {
   "cell_type": "code",
   "execution_count": null,
   "metadata": {},
   "outputs": [],
   "source": [
    "# Predict ML on IR, ST and DB\n",
    "X = test_data[test_data.columns[[1,2,3]]]\n",
    "y = test_data[test_data.columns[0]]\n",
    "folds = 7\n",
    "kfoldlearning(X,y,'ML',folds)"
   ]
  }
 ],
 "metadata": {
  "kernelspec": {
   "display_name": "Python 3",
   "language": "python",
   "name": "python3"
  },
  "language_info": {
   "codemirror_mode": {
    "name": "ipython",
    "version": 3
   },
   "file_extension": ".py",
   "mimetype": "text/x-python",
   "name": "python",
   "nbconvert_exporter": "python",
   "pygments_lexer": "ipython3",
   "version": "3.7.2"
  }
 },
 "nbformat": 4,
 "nbformat_minor": 2
}
